#課題2.27　

#プログラム1
import matplotlib.pyplot as plt
def fibo(n):
  x, y = 0, 1
  for i in range(n):
    x, y = y, x + y
  return y

n = int(input('Enter an integer n: '))
list_fibo = [fibo(i) for i in range(n)]
list_fibo_rv = [1/fibo(i) for i in range(n)] 
list_fibo_rv_rt = []
for i in range(n-1):
  list_fibo_rv_rt.append(list_fibo_rv[i+1]/list_fibo_rv[i])  
plt.plot(list_fibo_rv_rt, marker = 'o')
plt.xlim(0, n-2)
plt.ylim(0, 1.1)
plt.show()
#print('フィボナッチ数列', list_fibo)
#print('フィボナッチ数の逆数列', list_fibo_rv)
print('逆数の漸近値：', list_fibo_rv_rt[n-2]) 
print('黄金比の逆数：', 1 / ((1 + 5**0.5)/2)) 
print('フィボナッチ数列の逆数和:', sum(list_fibo_rv))


#プログラム2
import matplotlib.pyplot as plt
def fibo(n):
  x, y = 0, 1
  for i in range(n):
    x, y = y, x + y
  return y

n = int(input('Enter an integer n: '))
list_fibo = [fibo(i) for i in range(n)] 
list_fibo_rv = [1/fibo(i) for i in range(n)] 
listx = []
list_sum = []
for i in list_fibo_rv:
  listx.append(i)
  list_sum.append(sum(listx))
x = np.arange(0, n, 1)
y = np.array(list_sum)
plt.plot(x, y, marker = 'o')
plt.xlim(0, n)
plt.ylim(0, 4)
plt.show()

