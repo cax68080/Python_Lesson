#課題2.26　

import matplotlib.pyplot as plt
def fibo(n):
  x, y = 0, 1
  for i in range(n):
    x, y = y, x + y
  return y

n = int(input('Enter an integer n: '))
list_fibo = [fibo(i) for i in range(n)]
list_fibo_gr = []
for i in range(n-1):
  list_fibo_gr.append(list_fibo[i+1]/list_fibo[i])
plt.plot(list_fibo_gr, marker = 'o')
plt.xlim(0, n-2)
plt.ylim(1.0, 2.1)
plt.show()
print('フィボナッチ数列', list_fibo, len(list_fibo))
print('黄金比に漸近する', list_fibo_gr, len(list_fibo_gr))
print('漸近値：', list_fibo_gr[18]) 
print('黄金比：', (1 + 5**0.5)/2)

