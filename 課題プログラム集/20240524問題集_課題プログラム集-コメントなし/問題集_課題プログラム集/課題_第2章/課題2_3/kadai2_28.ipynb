#課題2.28＊　

import numpy as np
import matplotlib.pyplot as plt
s, n = 0, 1000
list_sum = []
for i in range(1, n+1):
  s += 1/i**2
  list_sum.append(s)
x = np.arange(1, n+1, 1)
y = np.array(list_sum)
plt.plot(x, y)
plt.show()
print(s)
print(np.pi**2/6) 

