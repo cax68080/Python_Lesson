#課題2.32＊　

import numpy as np
import matplotlib.pyplot as plt
def area(a, b):
  h = 0.1
  return 0.5*(a + b)* h

x = np.arange(0, 1.1, 0.1)
y = np.array([0.0, 0.0343, 0.0822, 0.1393, 0.2070,
              0.2872, 0.3810, 0.4899, 0.6173, 0.7710, 1.0]) 
y1 = np.arange(0, 1.1, 0.1) 
plt.plot(x, y, marker = 'o')
plt.plot(x, y1, marker = 's')
plt.xticks(np.arange(0, 1.1, step = 0.1)) 
plt.yticks(np.arange(0, 1.1, step = 0.1)) 
plt.xlim(0, 1.0) 
plt.ylim(0, 1.0)
plt.grid()
plt.show()

s = 0.
for i in range(0, 10):
  s += area(y[i], y[i+1]) 
gini = (0.5 - s) * 2 
# y = x とx軸が囲む面積(0.5)
print('\n', 'Gini coefficient:', round(gini, 4)) 
