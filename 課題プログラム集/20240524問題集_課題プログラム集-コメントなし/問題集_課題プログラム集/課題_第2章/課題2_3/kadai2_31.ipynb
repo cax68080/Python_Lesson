課題2.31＊　

#プログラム1：正規分布を描く
import numpy as np
from scipy.stats import norm
import matplotlib.pyplot as plt
x = np.linspace(0, 120, 200)
y = norm.pdf(x, 62.5, 10.64) 
plt.plot(x, y)
plt.show()


#プログラム2：サンプリング，平均値，中央値，標準偏差
import numpy as np
np.random.seed(100)
n = 20
data_w = np.round(np.random.normal(62.5, 10.64, n), 1)
print('sample:', n, data_w) 
sumw = 0
for x in data_w:
  sumw += x
meanw = sumw / n
print('mean:', round(meanw, 1)) 
print('mean:', round(np.mean(data_w), 1)) 
data_sort = np.sort(data_w) 
print('sorted data:', data_sort) 
if n % 2  != 0: 
  medianw = data_sort[int((n-1)/2)] 
  print(int((n-1)/2))
else: 
  medianw = (data_sort[int(n/2)-1] + data_sort[int(n/2)]) / 2
  print(int(n/2)-1, int(n/2))
  print(data_sort[int(n/2)-1], data_sort[int(n/2)])
print('median:', round(medianw, 1))
print('median:', round(np.median(data_sort), 1))
dsumw2 = 0
for x in data_w:
  dev = x - meanw 
  dsumw2 += dev * dev 
varw = dsumw2 / (n - 1) 
stdw = varw ** 0.5 
print('sample std:', round( stdw, 2))
print('sample std:', round(np.std(data_w, ddof=1), 2))


#プログラム3: 箱ひげ図を描く
import numpy as np
import matplotlib.pyplot as plt
np.random.seed(100)
data_w = np.round(np.random.normal(62.5, 10.64, 20), 1)
x = np.round(data_w, 1)
fig, ax = plt.subplots()
labels = ['x']
ax.boxplot(x, labels = labels)
plt.show()
q75 = np.percentile(x, 75)
q50 = np.percentile(x, 50)
q25 = np.percentile(x, 25)
iqr = q75 - q25
#print('降順ソート', sorted(x, reverse = True) )
print('最大値', max(x), '　　第3四分位数', round(q75, 1))
print('中央値（第2四分位数）', round(q50, 1),
      '　　第1四分位数', round(q25, 1))
print('四分位範囲', round(iqr, 1), '　　最小値', min(x))

