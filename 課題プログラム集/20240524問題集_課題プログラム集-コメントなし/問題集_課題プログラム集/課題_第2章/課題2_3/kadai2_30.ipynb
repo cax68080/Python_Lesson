#課題2.30　

import numpy as np
import matplotlib.pyplot as plt
def test_stat(x):
  meanx = np.mean(x)
  medianx = np.median(x)
  stdx = np.std(x, ddof= 1)
  maxx = max(x) 
  q75 = np.percentile(x, 75) 
  q50 = np.percentile(x, 50) 
  q25 = np.percentile(x, 25)
  iqr = q75 - q25 
  minx = min(x) 
  return meanx, medianx, stdx, maxx, q75, q50, q25, iqr, minx
x = [83, 79.5, 50, 68, 72, 60.5, 90, 85, 55, 95] 
print(len(x)) 
meanx, medianx, stdx, maxx, q75, q50, q25, iqr, minx = test_stat(x)
print('平均値 ', round(meanx, 1))
print('中央値', round(medianx, 1))
print('標本標準偏差', round(stdx, 2))
print('降順ソート', sorted(x, reverse = True))
print('最大値', maxx)
print('第3四分位数', round(q75, 1))
print('中央値（第2四分位数）', round(q50, 1))
print('第1四分位数', round(q25, 1))
print('四分位範囲', round(iqr, 1))
print('最小値', minx)
fig, ax = plt.subplots()
labels = ['x']
ax.boxplot(x, labels = labels)
plt.show()
