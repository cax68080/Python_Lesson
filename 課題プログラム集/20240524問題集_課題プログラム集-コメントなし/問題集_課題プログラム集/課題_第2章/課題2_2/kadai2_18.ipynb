#課題2.18  

def fibo(n):
  x, y = 0, 1
  for i in range(n):
    x, y = y, x + y
  return y

n = int(input('Enter an integer n:  ')) 
list_fibo = [fibo(i) for i in range(n)] 
print(list_fibo, len(list_fibo)) 


#別解
def fibo(n): 
  if n == 0:  
    return 0     
  elif n == 1:  
    return 1    
  else:  
    return fibo(n-1) + fibo(n-2) 

n = int(input('Enter an integer n = ')) 
list_fibo = [fibo(i) for i in range(n+1)]     
del list_fibo[0] 
print(list_fibo, len(list_fibo))