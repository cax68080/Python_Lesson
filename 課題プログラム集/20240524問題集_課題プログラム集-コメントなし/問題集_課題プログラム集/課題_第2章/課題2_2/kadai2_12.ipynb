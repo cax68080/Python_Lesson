#課題2.12 

import random 
def dice(n):
  num1 = [0] * 7 
  num2 = [0] * 7
  X = [0] * 13 
  st_prob = [0] * 13 
  for i in range(1, n+1):
    x = random.randint(1, 6)
    y = random.randint(1, 6)
    num1[x] = num1[x] + 1
    num2[y] = num2[y] + 1
    X[x + y] = X[x + y] + 1
  for j in range(2, 13):
    st_prob[j] = round(X[j] /n, 4)
  return st_prob[2:] 
n = 6000
limit = 600000
while True:
  print('統計的確率 ', 'n =', n) 
  stat_prob = [round(i, 4) for i in dice(n)]
  print(stat_prob, len(stat_prob))
  n = n * 10
  if n > limit:
    break
print('先験的確率 ')
apri_prob = [1/36, 2/36, 3/36, 4/36, 5/36, 6/36, 5/36, 4/36, 3/36, 2/36, 1/36]
apri_prob = [round(i, 4) for i in apri_prob]
print(apri_prob, len(apri_prob))
