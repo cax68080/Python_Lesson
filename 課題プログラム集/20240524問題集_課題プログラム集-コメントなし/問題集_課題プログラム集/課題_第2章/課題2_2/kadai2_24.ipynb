#課題2.24＊

#モジュールファイル　get_ckdigit_CCN.py
def get_ckdigit_CCN(figs, first_digit): 
  sum_odd, sum_even = 0, 0
  for i, j in enumerate(figs, 2): 
    if i % 2 != 0: 
      sum_odd += int(j)
    else: 
      n = int(j) * 2 
      if n >= 10:
        sum_even += n - 9
      else:
        sum_even += n
  sum_ccn = sum_odd + sum_even 
  list_sum = [sum_ccn, sum_odd, sum_even]
# 有効なcheckdigit を求める。余りは sum_ccn % 10
  if sum_ccn % 10 == 0:
    checkdigit = 0 
  else: 
    checkdigit = 10 - sum_ccn % 10 
  checkdigit = str(checkdigit)
  if checkdigit == first_digit:
    TF = True 
  else:
    if first_digit != None: 
      TF = Flase  
    else: 
      TF = None 
  return TF, checkdigit, list_sum 
  
  
#　プログラム本体
import get_ckdigit_CCN
code = input('Enter a 16-digit number: ') 
figs = code.replace(' ', '') 
figs = figs[::-1] 
print(' Reversed 16-digit:', figs, '\t', len(figs))
first_digit = figs[0] 
print('first digit:', first_digit)
figs = figs.replace(first_digit, '', 1) 
print(' Reversed 15-digit:', figs, '\t', len(figs))
TF, checkdigit, list_sum = get_ckdigit_CCN.get_ckdigit_CCN(figs, first_digit)
list_sum[1] = int(checkdigit) + list_sum[1] 
list_sum[0] = int(checkdigit) + list_sum[0] 
print('TorF:', TF, '  valid checkdigit:', checkdigit,\
'  sum_ccn, sum_odd, sum_even:', list_sum)
print('the valid 16-digit credit card number:', code[:len(code)-1] + checkdigit)



#プログラム2： 16桁のカード番号が有効か／無効かを判定するだけのプログラム
def ckdigit_CCN(figs): 
  sum_odd, sum_even = 0, 0
  for i, j in enumerate(figs, 1): 
    if i % 2 != 0: 
      sum_odd += int(j) 
    else:
      n = int(j) * 2
      if n >= 10:
        sum_even += n - 9
      else:
        sum_even += n
  sum_ccn = sum_odd + sum_even
  if sum_ccn % 10 == 0:
    return True
  else:
    return False

code = input('Enter a 16-digit credit number: ') 
figs = code.replace(' ', '') 
figs = figs[::-1] 
print(ckdigit_CCN(figs)) 