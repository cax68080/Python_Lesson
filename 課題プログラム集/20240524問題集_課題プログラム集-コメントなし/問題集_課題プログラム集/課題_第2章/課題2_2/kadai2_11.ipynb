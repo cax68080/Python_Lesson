#課題2.11＊　

def get_Chi2(L, N):
  dict_num = {i: 0 for i in range(L)} 
  for i in range(N):
    x = random.randrange(10)
    dict_num[x] += 1
  F = N / L 
  Chi2 = 0 
  sumf = 0
  for i in range(L):
    n = dict_num[i] 
    Chi2 += (n - F)**2 / F 
    sumf += n
  return dict_num, Chi2, sumf

import random
random.seed(100)
L, N = 10, 20000
limit = 16.919 
for i in range(1, 11): 
  dict_num, Chi2, sumf = get_Chi2(L, N)
  print(i, '  Chi2値：', round( Chi2, 4))
  print('辞書：', dict_num, 'サイズ', len(dict_num), '  総和：', sumf,
        '  理論度数：', N / L)  
  if Chi2 < limit:
    print('0 から 9 の整数は，等しい確率で現れているといえる。\n')
  else:
   print('0 から 9 の整数は，等しい確率で現れているとはいえない。\n')
