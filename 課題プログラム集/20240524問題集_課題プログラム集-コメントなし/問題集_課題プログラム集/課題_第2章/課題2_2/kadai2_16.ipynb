#課題2.16

def Pascal_triangle(N):
  from math import factorial as fact
  def C(n, r):
    return fact(n) // (fact(r)*fact(n -r))
  for n in range(N+1):
    list_C = [C(n, r) for r in range(n+1)]
  return list_C
sum2 = []
N = int(input('Enter a max number of rows = '))
for i in range(N+1):
  list_C = Pascal_triangle(i)
  list_C2 = []
  for i in list_C:
    list_C2.append(i*i)
  sum2.append(sum(list_C2))
print(sum2) 