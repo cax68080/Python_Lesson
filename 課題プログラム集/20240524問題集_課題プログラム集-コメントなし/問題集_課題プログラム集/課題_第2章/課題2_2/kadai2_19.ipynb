#課題2.19

def fibo(n):
  x, y = 0, 1
  for i in range(n):
    x, y = y, x + y
  return y

n = int(input('Enter an integer n: '))
list_fibo = [fibo(i) for i in range(n)]
print(list_fibo, len(list_fibo))
list_fibo_sq = [i*i for i in list_fibo]
if sum(list_fibo_sq) == fibo(n-1) * fibo(n):
  print(True, ': F1*F1 + F2*2 + … + Fn*Fn = Fn * Fn+1 = ', fibo(n-1) * fibo(n))
else:
  print(False)

