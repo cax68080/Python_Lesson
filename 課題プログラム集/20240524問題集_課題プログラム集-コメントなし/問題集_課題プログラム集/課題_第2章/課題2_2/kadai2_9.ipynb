#課題2.9＊

def total(oe): 
  sumx = 0
  for x in range(oe, 101, 2):  
    sumx += x
  return sumx

odd = 1
sumo = total(odd) 
even = 2
sume = total(even)
print('奇数の和：', sumo, '  偶数の和：', sume, '  総和：', sumo + sume,)
