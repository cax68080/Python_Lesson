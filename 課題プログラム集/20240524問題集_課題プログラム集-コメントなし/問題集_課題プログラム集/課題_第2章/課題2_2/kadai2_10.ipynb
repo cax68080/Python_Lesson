#課題2.10  

def mgsquare(a, c, g) :
  CNST = 15
  e = 5
  i = CNST - a - e
  b, f, h, d = CNST - a - c, CNST - c - i, CNST - g - i, CNST - a - g
  mgsq = [[a, b, c], [d, e, f], [g , h, i]]
  return mgsq

import pprint
for a in [2, 4, 6, 8] :
  if a == 2 or a == 8:
    c, g = 4, 6
    pprint.pprint(mgsquare(a, c, g), width = 20)
    print()
    pprint.pprint( mgsquare(a, g, c), width = 20)
    print()
  elif a == 4 or a == 6: 
    c, g = 2, 8
    pprint.pprint(mgsquare(a, c, g), width = 20)
    print()
    pprint.pprint(mgsquare(a, g, c), width = 20)
    print()

