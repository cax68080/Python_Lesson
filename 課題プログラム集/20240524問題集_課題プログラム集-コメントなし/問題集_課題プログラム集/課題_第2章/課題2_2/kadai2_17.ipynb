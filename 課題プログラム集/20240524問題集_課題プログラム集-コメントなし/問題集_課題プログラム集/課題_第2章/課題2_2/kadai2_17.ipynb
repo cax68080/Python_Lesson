#課題2.17

def fizzbuzz(num):
  if num % 3 == 0 and num % 5 == 0:       
    return 'Fizz Buzz'
  elif num % 3 == 0: 
    return 'Fizz'
  elif num % 5 == 0: 
    return 'Buzz'
  else: 
   return num

n = int(input('Enter an integer n = '))
listx = list(range(1, n+1))
print(list(map(fizzbuzz, listx))) 
