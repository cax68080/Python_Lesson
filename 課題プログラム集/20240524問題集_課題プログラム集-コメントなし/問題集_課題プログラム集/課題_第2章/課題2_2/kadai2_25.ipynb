#課題2.25＊　

import get_ckdigit_CCN
code = input('Enter a 15-digit number: ') 
figs = code.replace(' ', '') 
figs = figs[::-1] 
first_digit = None 
print(figs, '\t', len(figs))
TF, checkdigit, list_sum = get_ckdigit_CCN.get_ckdigit_CCN(figs, first_digit)
list_sum[1] = int(checkdigit) + list_sum[1] 
list_sum[0] = int(checkdigit) + list_sum[0] 
print('TorF:', TF, '  valid checkdigit:', checkdigit,\
      '  sum_ccn, sum_odd, sum_even:', list_sum)
print('the valid 16-digit credit card number:', code[:len(code)] + checkdigit)
