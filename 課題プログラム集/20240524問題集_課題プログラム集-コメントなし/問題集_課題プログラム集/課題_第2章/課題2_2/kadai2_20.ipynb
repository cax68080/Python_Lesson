#課題2.20　

#プログラム1
def palindrome(word):
  i = 0
  j = len(word) - 1
  while i < j:
    if word[i] != word[j]:
      return False 
    i += 1
    j -= 1
  return True 
word = input('Enter a string or a digit: ')
print(palindrome(word))


#プログラム2
import palindrome
word = '12345554321' 
print(palindrome.palindrome(word)) 

# モジュールファイル　palindrome.py
def palindrome(word):
  if len(word) <= 1:
    return True
  if word[0] != word[-1]:
    return False
  w = word.replace(word[0], '')
  w = word.replace(word[-1], '')
  return palindrome(w)
