#課題2.22＊　

def get_checkdigit(ISBN12): 
  sum_oddd, sum_evend = 0, 0
  for i, elm in enumerate(ISBN12, 1): 
    if i % 2 != 0:
      sum_oddd += int(elm) 
    else:
      sum_evend += int(elm) 
  num = sum_oddd + sum_evend * 3  
  r = num % 10 
  if r == 0 :
    checkdigit = str(r) 
  else : 
    checkdigit = str(10 - r) 
  return checkdigit 

code = input('Enter a 13-bit ISBN with hyphens: ') 
ISBN13 = code.replace('-', '') 
last_digit = ISBN13[len(ISBN13)-1] 
ISBN12 = ISBN13[:-1] 
checkdigit = get_checkdigit(ISBN12) 
if checkdigit == last_digit: 
  print('the 13-digit ISBN is valid.')
if checkdigit != last_digit: 
  print('the 13-digit ISBN is not valid.')
　print('valid checkdigit', checkdigit)
  print('the valid 13-digit ISBN:', 'ISBN' + code[:len(code)-1] + checkdigit)  
  

