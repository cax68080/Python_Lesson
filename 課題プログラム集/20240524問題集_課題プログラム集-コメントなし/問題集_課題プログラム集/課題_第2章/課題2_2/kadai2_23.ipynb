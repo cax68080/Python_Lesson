#課題2.23　

def split_string_func(str_seq, N, n):
  split_slist = [str_seq[i:i+n] for i in range(0, N, n)]
  split_string = ' '.join(split_slist)
  return split_string

import random
import string
#random.seed(110)
N = int(input('Enter a length of a random list: ')) 
n = int(input('Enter a length of a split_digit: ')) 
rlist = [random.choice(string.digits) for i in range(0, N)]
print(rlist, len(rlist))
code = ''.join(rlist)
print('a 16_digit code without spaces:', code)
split_code = split_string_func(code, N, n)
print('a 16_digit code with a space for every four digits:', split_code)

