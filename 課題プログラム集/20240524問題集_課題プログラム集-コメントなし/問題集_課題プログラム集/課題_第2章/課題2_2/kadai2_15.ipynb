#課題2.15　

def C(n, r):
  if r <= 0 or n <= r:
  	return 1
  else:
  	return(C(n-1, r-1) + C(n-1, r))

N = int(input('Enter a max number of rows: '))
print()
for n in range(N+1): 
  list_C = [C(n, r) for r in range(n+1)] 
  print(n, list_C)
  print('  '.join(map(str, list_C)).center(130)) 

