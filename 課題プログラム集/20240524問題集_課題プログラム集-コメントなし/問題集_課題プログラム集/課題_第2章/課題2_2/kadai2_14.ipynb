#課題2.14　 

def fact_r(n):
    if n == 0:
        return 1
    else:
        return fact_r(n-1) * n 
        
n = int(input('Enter an integer n: ')) 
print(fact_r(n))
import math
math.factorial(n)
