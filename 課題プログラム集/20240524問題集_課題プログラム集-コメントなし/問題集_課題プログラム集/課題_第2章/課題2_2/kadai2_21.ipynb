#課題2.21  

def palindrome(word): 
  i = 0 
  j = len(word) - 1
  while i < j: 
    if word[i] != word[j]: 
      return False
    i += 1
    j -= 1
  return True
words = ['akasaka', 'asakusa', 'ABBA', '1234554321', '12354321']
list_pal = []
for i in filter(palindrome, words):
  list_pal.append(i)
print(list_pal) 
