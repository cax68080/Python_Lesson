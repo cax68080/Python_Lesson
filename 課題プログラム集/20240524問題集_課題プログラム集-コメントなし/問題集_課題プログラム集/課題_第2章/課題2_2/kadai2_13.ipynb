#課題2.13　

def countup(n, i):
  if i <=  n:
    print(i, end = ' ')
    countup(n, i+1)
  else:
   return
    
n = int(input('Enter a number: '))
countup(n, 0)
