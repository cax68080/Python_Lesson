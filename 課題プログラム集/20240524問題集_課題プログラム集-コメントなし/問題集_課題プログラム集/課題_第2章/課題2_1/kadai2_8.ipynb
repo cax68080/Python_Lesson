#課題2.8　

for i in range(1, 10):
  num10 = i / 10
  print(num10) 
  num = num10
  listx = []
  i = 0
  while num != 0: 
    listx.append(int(num*2))
    num = num*2 - int(num*2)
    i += 1
    if i >= 31:
      break 
  print(listx)
  strx = ''.join([str(i) for i in listx])
  print(num10, 'を2進記数法で表すと　', '0.' + strx)
