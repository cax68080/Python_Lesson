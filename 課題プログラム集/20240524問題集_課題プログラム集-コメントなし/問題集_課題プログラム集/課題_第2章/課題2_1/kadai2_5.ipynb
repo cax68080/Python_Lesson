#課題2.5＊

loan = int(input('借入金額（万円）を入力してください： '))
yrate = float(input('年利%）を入れてください： '))
years = int(input('返済年数をいれてください： '))
loan = loan * 10000                
mrate = (yrate / 12) / 100           
n = years * 12                        
bp = loan // n                    
print(bp)
print('回数', '返済額 = 元金 + 利息', '借入残高', sep = '\t')
sumi = 0.                        
sump = 0.                        
sumbp = 0.                       
for i in range(1, n + 1):         
  ip = int(loan*mrate)          
  xp = bp + ip            
  loan = loan - bp      
  sumi += ip              
  sump += xp              
  sumbp += bp             
  print(i, xp, bp, ip, loan, sep = '\t')

print('回数', '返済額 = 元金 + 利息', '借入残高', sep = '\t')
xp = xp + loan
bp = bp +loan
sumbp = sumbp + loan
sump = sump +loan
loan = 0
print(n, xp, bp, ip, loan, sep = '\t')
print('切り捨ての場合で，最終回での借入残高を0にするために，返済額を修正しています')
print()
print('      利息の総額 ', int(sumi))
print('均等返済額の総額', int(sumbp))   
print('    返済額の総額', int(sump))
