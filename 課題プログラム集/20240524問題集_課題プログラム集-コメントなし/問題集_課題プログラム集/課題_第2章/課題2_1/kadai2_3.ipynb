#課題2.3　 
　　　　　
import random
import string
#random.seed(200)
pwd = '' 
for cha in range(4):
  pwd += random.choice(string.ascii_uppercase)
  pwd += random.choice(string.ascii_lowercase)
  pwd += random.choice(string.digits)
  pwd += random.choice(string.punctuation)
print(pwd, len(pwd), sep = '\t')
list_pwd = random.sample(pwd, len(pwd))
print(list_pwd)
str_pwd = ''.join(list_pwd) 
print(str_pwd, len(pwd), sep = '\t')
if str_pwd[0] in string.ascii_uppercase: 
  print('先頭が大文字の長さ', len(str_pwd), 'のパスワード:', str_pwd) 
else: 
  pwd0 = random.choice(string.ascii_uppercase) 
  repl_cha = random.choice(str_pwd) 
  pwdU = pwd0 + str_pwd.replace(repl_cha, '', 1) 
  print('先頭が大文字の長さ', len(pwdU), 'のパスワード:', pwdU)
