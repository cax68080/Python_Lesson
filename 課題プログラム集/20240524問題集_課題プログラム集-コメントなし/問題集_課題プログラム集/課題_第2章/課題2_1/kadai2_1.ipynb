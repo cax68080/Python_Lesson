#課題2.1　

mgsq = [[2, 9, 4], [7, 5, 3], [6, 1, 8]]
sum_r0 = sum(mgsq[0])
sum_r1 = sum(mgsq[1])
sum_r2 = sum(mgsq[2])
print('列和', sum_r0, sum_r1, sum_r2)
sum_c0 = sum([mgsq[0][0], mgsq[1][0], mgsq[2][0]])
sum_c1 = sum([mgsq[0][1], mgsq[1][1], mgsq[2][1]])
sum_c2 = sum([mgsq[0][2], mgsq[1][2], mgsq[2][2]])
print('行和', sum_c0, sum_c1, sum_c2)
sum_d0 = sum([mgsq[0][0], mgsq[1][1], mgsq[2][2]])
sum_d1 = sum([mgsq[0][2], mgsq[1][1], mgsq[2][0]])
print('対角線和', sum_d0, sum_d1)
