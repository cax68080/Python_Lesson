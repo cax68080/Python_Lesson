#課題2.6＊

el_result = {'A': 340000,'B':280000, 'C': 160000, 'D':60000, 'E':15000}
nvalues = list(el_result.values())
num = []
for v in nvalues:
   for i in range(0, 7):
      num.append(v // (i+1))
numA = num[0:7]
print(‘A’, numA)
numB = num[7:14]
print(‘B’, numB)
numC = num[14:21]
print(‘C’, numC)
numD = num[21:28]
print(‘D’, numD)
numE = num[28:35]
print(‘E’, numE)
print()
num_sorted = sorted(num, reverse = True)      
num_sort = num_sorted[0:7] 
print(‘商の大きい順’, num_sort)
seatA = 0
seatB = 0
seatC = 0
seatD = 0
seatE = 0
for v in num_sort:
  if v in numA: 
    seatA += 1 
  elif v in numB:
     seatB += 1;
  elif v in numC:
     seatC += 1
  elif v in numD: 
    seatD += 1
  elif v in numE:
     seatE += 1
print('seatA =', seatA)
print('seatB =', seatB)
print('seatC =', seatC)
print('seatD =', seatD)
print('seatE =', seatE)
