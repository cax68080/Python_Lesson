#課題2.2

pw = input('半角英数字のパスワードを入力 (8文字以上15文字以下)。 ')
pw_len = len(pw)
if pw.isalnum() and pw[0].isupper() and (not pw.isalpha()) and\
(8 <= pw_len <= 15):
  print(pw)
else:
  print('入力エラー：パスワードは最初の文字が英大文字で，英字と数字が混在させ, \
8文字以上15文字以下にしてください')


#別解

pw = input('半角英数字のパスワードを入力(8文字以上15文字以下)： ')
pw_len = len(pw)
if pw.isalnum():
  if pw[0].isupper(): 
    if not pw.isalpha(): 
      if 8 <= pw_len <= 15:
        print('適格なパスワードです：',  pw)
      else:
        print('入力エラー：8文字以上15文字以下にしてください')
    else:                              # すべて英字ならば
      print('入力エラー：数字を入れてください')
  else:
    print('入力エラー：最初の文字は英大文字にしてください')
else:
  print('入力エラー：記号を入れないで英数字のみとしてください')

