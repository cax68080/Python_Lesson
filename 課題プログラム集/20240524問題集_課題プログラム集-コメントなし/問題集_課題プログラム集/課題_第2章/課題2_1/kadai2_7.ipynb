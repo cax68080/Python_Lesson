#課題2.7

bottles = 5
while bottles > 0:
  if bottles == 1:
    print(bottles, 'bottle of beer on the wall')
  else:
    print(bottles, 'bottles of beer on the wall')
  if bottles == 1:
    print(bottles, 'bottle of beer')
  else:
    print(bottles, 'bottles of beer')
  print('Take one down, pass it around')
  bottles = bottles - 1
  if bottles == 0:
    print('no more bottle of beer on the wall', '\n')
  elif bottles == 1:
    print(bottles, 'bottle of beer on the wall', '\n')
  else:
    print(bottles, 'bottles of beer on the wall', '\n')
