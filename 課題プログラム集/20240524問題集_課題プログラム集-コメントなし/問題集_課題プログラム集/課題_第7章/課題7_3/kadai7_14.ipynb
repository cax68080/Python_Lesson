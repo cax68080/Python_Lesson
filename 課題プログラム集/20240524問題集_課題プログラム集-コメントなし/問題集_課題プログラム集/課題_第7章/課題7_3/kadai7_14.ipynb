#課題7.14＊ 

class PetOwner:
  def __init__(self, name):
    self.name = name
  def message(self, cat): 
    print(self.name + ' feeds his cat ' + cat.name + ', ' \
    + cat.breed +'. ' + cat.meow())
class Cat:
  def __init__(self, name, breed):
    self.name = name 
    self.breed = breed
  def meow(self): 
    return 'Meow!'
    
# メインのプログラム
cat = Cat('Luna', 'American Shorthair') 
petowner = PetOwner('John') 
petowner.message(cat) 
