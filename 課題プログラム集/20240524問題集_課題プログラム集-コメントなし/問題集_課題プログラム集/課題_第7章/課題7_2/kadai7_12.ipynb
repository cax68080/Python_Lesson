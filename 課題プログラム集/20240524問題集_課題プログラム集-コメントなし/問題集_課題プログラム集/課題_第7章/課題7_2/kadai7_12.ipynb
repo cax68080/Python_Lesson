#課題7.12*

class Pangram(str): 
  def count_letters(self): 
    stringx = self.replace(' ', '').replace('.', '').lower()
    dict_count = {} 
    for c in stringx: 
      if c in dict_count:
        dict_count[c] += 1
      else:
        dict_count[c] = 1
    if len(dict_count) == 26: 
      flag = True 
    else:
      flag = False 
    return stringx, len(stringx), len(dict_count), flag, dict_count

#　クラスの外
sentence = Pangram('The quick brown fox jumps over a lazy dog.')
print(sentence)
stringx, total_letters, diff_letters, flag, dict_count\
 = sentence.count_letters() 
print(''.join(sorted(stringx)))
print('total_letters:', total_letters) 
print('diff_letters:', diff_letters) 
print('flag:', flag)
import pprint
pprint.pprint(dict_count)
print(sentence.upper()) 
print(sentence.split()) 
