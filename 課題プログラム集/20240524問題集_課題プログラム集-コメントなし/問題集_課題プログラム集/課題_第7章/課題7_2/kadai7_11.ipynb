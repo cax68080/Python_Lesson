#課題7.11

import math
class Sides:
  COEFF = 25.4 
  def __init__(self, diagonal, aspect_ratio):
    self.c = diagonal * Sides.COEFF 
    self.ratio = aspect_ratio 
  def width_height(self):
    h = self.c / math.sqrt(1 + self.ratio * self.ratio) 
    w = self.ratio * h
    return w, h 
class Area(Sides):
  def area(self):
    w, h = self.width_height()
    s = h/10 * w/10 
    return s   
    
  
# プログラム本体（クラスの外）
diagonal = 12.9 
print('diagonal:', diagonal, 'inch')
aspect_ratio = 4/3
print('aspect_ratio 4/3:', round(aspect_ratio, 2))
side = Sides(diagonal, aspect_ratio) 
w, h = side.width_height() 
print('width:', round(w, 1), 'mm')
print('height:', round(h, 1), 'mm')
s = Area(diagonal, aspect_ratio) 
print('area:', round(s.area(), 1), 'square cm')
