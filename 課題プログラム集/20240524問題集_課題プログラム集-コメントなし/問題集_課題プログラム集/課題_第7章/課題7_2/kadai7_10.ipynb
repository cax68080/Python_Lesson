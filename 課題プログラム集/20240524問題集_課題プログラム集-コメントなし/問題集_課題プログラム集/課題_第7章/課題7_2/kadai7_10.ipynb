#課題7.10

import math
class Circle: 
  def __init__(self, r):
    self.r = r
  def area(self):
    s = math.pi * self.r **2 
    return s
class Cylinder(Circle): 
  def __init__(self, r, h): 
    super().__init__(r)
    self.h = h 
  def vol_cyl(self):
    V = self.area() * self.h 
    return V
class Cone(Cylinder): 
  def vol_cone(self):
    V = self.vol_cyl() / 3
    return V
    
#　メイン部（クラス外）
crobj = Circle(10) 
print('半径：', crobj.r)
ar = crobj.area() 
print('円の面積：', round(ar, 2))
cylobj = Cylinder(10, 20)
print('高さ：', cylobj.h)
print('円柱の体積：', round(cylobj.vol_cyl(), 2))
cnobj = Cone(10, 20)
print('円錐の体積：', round(cnobj.vol_cone(), 2))

