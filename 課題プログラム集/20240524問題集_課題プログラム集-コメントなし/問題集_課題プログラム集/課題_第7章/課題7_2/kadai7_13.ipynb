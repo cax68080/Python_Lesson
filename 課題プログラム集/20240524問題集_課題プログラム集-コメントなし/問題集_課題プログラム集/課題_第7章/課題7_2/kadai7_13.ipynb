#課題7.13　

import abc
class Animal(metaclass = abc.ABCMeta): 
  @abc.abstractmethod
  def make_cry(self):
    pass
  def behavior(self):
    pass
class Dog(Animal): 
  def make_cry(self):
    return 'bowwow'
  def behavior(self):
    return 'depemdent'
class Cat(Animal): 
  def make_cry(self):
    return 'meow'
  def behavior(self):
    return 'indepemdent'

dog, cat = Dog(), Cat() 
for animal in [dog, cat]:
  print(type(animal), '  Cry:', animal.make_cry())
  print(type(animal), '  Behavior:', animal.behavior())
  print()

