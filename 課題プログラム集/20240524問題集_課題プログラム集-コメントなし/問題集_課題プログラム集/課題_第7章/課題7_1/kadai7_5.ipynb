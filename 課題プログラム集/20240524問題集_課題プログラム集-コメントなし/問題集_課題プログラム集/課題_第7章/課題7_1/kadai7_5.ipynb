#課題7.5　 

class Fibonacci:
  def __init__(self, x = 0, y = 1): 
    self.x = x 
    self.y = y
  def fibo(self, n):
    self.x, self.y = 0, 1
    for i in range(n):
      self.x, self.y = self.y, self.x + self.y
    return self.y 


fib_obj = Fibonacci() 
print([fib_obj.fibo(i) for i in range(20)])

