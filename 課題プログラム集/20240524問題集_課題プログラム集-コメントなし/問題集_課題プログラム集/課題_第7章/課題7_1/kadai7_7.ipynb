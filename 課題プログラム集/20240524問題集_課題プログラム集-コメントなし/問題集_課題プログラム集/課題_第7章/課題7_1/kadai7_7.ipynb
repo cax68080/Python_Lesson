#課題7.7＊

import convert
import stack_computer
infix = input('Enter an infix exp: ') 
list_infix = infix.split() 
cnvobj = convert2.Convert(list_infix) 
rpn_queue = cnvobj.infix_rpn()
rpn = ' '.join(rpn_queue)
print('rpn exp ', rpn)
stack = []
stack_comp = stack_computer2.Stack(rpn, stack)
print('result =', stack_comp.stack_computing())


#モジュールファイル　convert.py
def comp(self, b, a, op_stack, rpn_queue): 
    if b + a in ['+*', '+/', '-*', '-/']: 
      op_stack.append(b) 
      op_stack.append(a) 
    else: 
      rpn_queue.append(b)
      op_stack.append(a) 
    return op_stack, rpn_queue

class Convert:
  def __init__(self, list_infix):
    self.list_infix = list_infix
  def infix_rpn(self): 
    rpn_queue = []
    op_stack = []
    for c in self.list_infix: 
      if c in '()+-*/': 
        if c == '(':
          op_stack.append(c)
          continue 
        if c == ')':
          op_stack.append(c)
          op_stack.pop()
          rpn_queue.append(op_stack.pop())
          x = op_stack.pop()
          if x == '(':
            continue
          else:
            rpn_queue.append(x)
            if op_stack.pop() == '(':
              continue
        op_stack.append(c) 
        if len(op_stack) >= 2: 
          a = op_stack.pop()
          b = op_stack.pop()
          if b == '(': 
            op_stack.append(b)
            op_stack.append(a)
            continue
          if b != '(':
            self.comp(b, a, op_stack, rpn_queue)
            if len(op_stack) == 2:
              a = op_stack.pop()
              b = op_stack.pop()
              if b == '(':
                op_stack.append(b)
                op_stack.append(a)
                continue
              self.comp(b, a, op_stack, rpn_queue)
      else: 
        rpn_queue.append(c) 
    if len(op_stack) == 2: 
      rpn_queue.append(op_stack.pop()) 
      rpn_queue.append(op_stack.pop()) 
    elif len(op_stack) == 1:
      rpn_queue.append(op_stack.pop())
    return rpn_queue 

    
#モジュールファイル　stack_computer.py
def shisoku(self, i):
  a = self.pop()
  b = self.pop()
  if i == '+':
    val= b + a
  elif i == '-': 
    val = b - a
  elif i == '*': 
    val = b * a
  elif i == '/': 
    val = b / a
  return self.push(val)
    
class Stack:
  def __init__(self, rpn, stack):
    self.rpn = rpn
    self.stack = stack
  def push(self, elm):
    return self.stack.append(elm)
  def pop(self):
    return self.stack.pop()
    
  def get_list_rpn(self):
    list_str = self.rpn.split() 
    list_rpn = []
    for c in list_str: 
      if c in '+-*/':
        list_rpn.append(c)
      else:
        list_rpn.append(eval(c))
    return list_rpn 
  def stack_computing(self):
    list_rpn = self.get_list_rpn()
    for i in list_rpn:
      if type(i) is float or type(i) is int:
        self.push(i) 
      else:
        self.shisoku(i) 
    return self.pop() 
