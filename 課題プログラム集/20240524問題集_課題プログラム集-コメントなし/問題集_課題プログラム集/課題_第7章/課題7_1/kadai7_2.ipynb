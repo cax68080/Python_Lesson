#課題7.2

class GcdEuclid: 
  def __init__(self, x, y):
    self.x = x
    self.y = y
  def gcd(self): 
    while self.y != 0:
      self.x, self.y = self.y, self.x % self.y
    return self.x

x, y =  map(int, input('Enter two integers: ').split())
gcdob = GcdEuclid(x, y) 
print('GCD:', gcdob.gcd()) 

