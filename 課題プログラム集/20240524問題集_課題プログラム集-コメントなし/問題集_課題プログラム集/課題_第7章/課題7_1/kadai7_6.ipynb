#課題7.6

class Stack:
  def __init__(self):
    self.stack = []
  def push(self, item):
    self.stack.append(item)
  def pop(self):
    return self.stack.pop()
  def get_list_rpn(self, rpn):
    list_str = rpn.split()
    rpn_queue = []
    for s in list_str:
      if s in '+-*/':
        rpn_queue.append(s)
      else:
        rpn_queue.append(eval(s))
    return rpn_queue
  def shisoku(self, i):
    print(i, '演算子が取り出されたので，二項演算を実行します')
    a = self.pop()
    b = self.pop()
    print('数値スタックでの数値の並び b a \n', b, a)
    print(' ', i)
    if i == '+':
      val= b + a
    elif i == '-':
      val = b - a
    elif i == '*':
      val = b * a
    elif i == '/':
      val = b / a
    return self.push(val)
  def stack_computing(self, rpn_queue):
    for i in rpn_queue:
      if type(i) is float or type(i) is int:
        self.push(i)
      else:
        self.shisoku(i)
      print('演算後のスタック', self.stack)
    return self.pop()
    
#　メイン部
rpn = input('後置記法の数式を入力してください： ')
stack_compute = Stack() 
rpn_queue = stack_compute.get_list_rpn(rpn)
print('rpn_queue', rpn_queue)
print('計算結果 ', stack_compute.stack_computing(rpn_queue))
