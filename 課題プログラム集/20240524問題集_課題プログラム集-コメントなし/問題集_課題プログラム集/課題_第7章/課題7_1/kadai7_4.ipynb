#課題7.4   

#モジュールファイル　QuadraEq.py
class QuadraEq: 
  def __init__(self, a, b, c):
    self.a, self.b, self.c = a, b, c
  def solutions(self):
    D = self.b**2 - 4*self.a*self.c
    sqrd = D**0.5
    x1 = (-self.b + sqrd) / (2*self.a)
    x2 = (-self.b - sqrd) / (2*self.a)
    return x1, x2　　


import QuadraEq 
a, b, c = 1, -2, -3
obj1 = QuadraEq.QuadraEq(a, b, c) 
print('2次方程式の解 ', obj1.solutions())
print(type(obj1)) 

a, b, c = 2, -5, 4
obj2 = QuadraEq.QuadraEq(a, b, c) 
print('2次方程式の解 ', obj2.solutions())
print(isinstance(obj2, QuadraEq.QuadraEq)) 
