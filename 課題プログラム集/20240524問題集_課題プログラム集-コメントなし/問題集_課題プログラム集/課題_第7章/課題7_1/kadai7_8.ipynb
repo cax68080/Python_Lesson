#課題7.8＊

import get_emjdata5
import TestScore_Pass
e, m, j = get_emjdata5.emjdata5() 
tsobj = TestScore_Pass.TestScore_Pass(e, m, j) 
tsobj.class_const() 
print(tsobj.count_pass()) 


#モジュールファイル get_emjdata5.py
def emjdata5():
  import csv
  with open('test_score5.csv', 'r') as fobj:  
    h = next(csv.reader(fobj)) 
    rdobj = csv.reader(fobj)
    data = []
    for row in rdobj: 
      dat = [] 
      for i in row:  
        if i.isdigit():
          dat.append(float(i)) 
        else:
          dat.append(i)
      data.append(tuple(dat)) 
# 科目別データに分ける 
  e, m, j = [], [], []
  for i in range(len(data)): 
    e.append(data[i][2])
    m.append(data[i][3])
    j.append(data[i][4])	
  return e, m, j 


#モジュールファイル TestScore_Pass.py
class TestScore_Pass: 
  __PASS_SCORE = 60 
  def __init__(self, eng, math, jpn): 
    self.eng = eng
    self.math = math
    self.jpn = jpn
  def count_pass(self):
    length = len(self.eng)
    count = []
    for subj in [self.eng, self.math, self.jpn]:
      pcount = 0
      for j in range(length):
       if subj[j] >= TestScore_Pass.__PASS_SCORE: 
         pcount += 1 
      count.append(pcount) 
    return count 
  @classmethod
  def class_const(cls):
    return print('__PASS_SCORE ', cls.__PASS_SCORE) 
