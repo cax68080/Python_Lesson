#課題7.9　

class BankAccount:
    def __init__(self, money):
        self.money = money 
    def deposit(self, dp_money):
        self.money += dp_money
    def withdraw(self, wd_money):
        if wd_money <= self.money:
            self.money -= wd_money
            flag = True
        else:
            flag = False
        return flag


# メインのプログラム
it_money = int(input('Enter initial money: '))
account = BankAccount(it_money) 
print(' Initial money:', account.money) 
while True:
  wd_money = int(input('Enter withdrawal_money: '))
  if wd_money == 0:
    print(' End of Processing')
    break
  flag = account.withdraw(wd_money) 
  if flag == True:
    print(' Money after withdrawal:', account.money)
  else:
    print(' Warning: Money is insuffcient!')
  dp_money = int(input('Enter deposit_money: '))
  if dp_money == 0:
    print(' End of Processing')
    break
  account.deposit(dp_money) 
  print(' Money after deposit:', account.money)
