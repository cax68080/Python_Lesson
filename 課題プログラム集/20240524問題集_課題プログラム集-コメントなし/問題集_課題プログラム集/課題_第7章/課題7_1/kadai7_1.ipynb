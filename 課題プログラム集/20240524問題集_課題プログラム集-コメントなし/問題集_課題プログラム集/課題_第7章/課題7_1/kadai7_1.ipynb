#課題7.1　 

#モジュールファイル　body_indices.py
class MyBody: 
def __init__(self, height, weight):
self.height = height
    self.weight = weight
def bmi_sw_dod(self):
    h2 = self.height*self.height
    bmi = self.weight / h2
    sw = h2*22
    dod = (self.weight-sw)/sw *100 
return bmi, sw, dod


import body_indices 
ht = float(input('身長(cm)を入力してください：')) / 100
wt = float(input('体重(kg)を入力してください：'))
mybody = body_indices.MyBody(ht, wt) 
bmi, sw, dod = mybody.bmi_sw_dod() 
print('BMI:', round(bmi, 1))
print('標準体重 Standard Weight:', round(sw, 1))
print('肥満度 Degree of Obesity:', round(dod, 1))

