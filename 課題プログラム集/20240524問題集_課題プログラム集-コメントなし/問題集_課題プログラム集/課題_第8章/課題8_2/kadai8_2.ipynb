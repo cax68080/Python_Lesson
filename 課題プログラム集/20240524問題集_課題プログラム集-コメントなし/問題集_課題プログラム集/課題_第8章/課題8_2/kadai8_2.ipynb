#課題8.2
#Anaconda

import turtle 
def draw_squares(angle, length, add, m):
    if m == 10:
        return
    for i in range(4): 
        kameo.forward(length) 
        kameo.left(angle) 
    return draw_squares(angle, length+add, add, m+1)

screen = turtle.Screen()  
screen.setup(600, 600)
screen.title('My Turtle Graphics')
kameo = turtle.Turtle() 
kameo.pencolor('red') 
kameo.pensize(2)
kameo.speed(2)
angle, length, add, m = 90, 10, 10, 1
draw_squares(angle, length, add, m)
screen.mainloop()
