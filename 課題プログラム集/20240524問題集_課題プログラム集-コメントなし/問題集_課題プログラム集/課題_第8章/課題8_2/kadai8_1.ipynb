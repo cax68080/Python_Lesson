#課題8.1
#Anaconda

import turtle
size = 150
n = 5
angle = 180 - 180 / n  
turtle.pencolor('red') 
turtle.pensize(2)
for i in range(n):
    turtle.forward(size)
    turtle.right(angle) 
turtle.done()
