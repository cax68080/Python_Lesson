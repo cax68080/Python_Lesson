#課題8.5　
#Anaconda

import turtle  
class Rainbow: 
    def __init__(self, radius, decrease):   
        self.radius = radius
        self.decrease = decrease
        self.y = 0
    def draw_semicircle(self, color): 
        kameo.penup()
        kameo.setposition(self.radius, self.y) 
        kameo.setheading(90) 
        kameo.pendown() 
        kameo.pencolor(color) 
        kameo.circle(self.radius, 180) 
        self.radius -= self.decrease 
             
# クラスの外
screen = turtle.Screen() 
screen.setup(600, 600)
screen.title('My Turtle Graphics') 
kameo = turtle.Turtle() 
radius, decrease = 100, 10 
bow = Rainbow(radius, decrease) 
kameo.pensize(decrease + 2) 
seven_colors = ['red', 'orange', 'yellow', 'green', 'blue', 'indigo', 'violet']
for i in range(7):
    bow.draw_semicircle(seven_colors[i]) 
kameo.hideturtle() 
screen.mainloop()
