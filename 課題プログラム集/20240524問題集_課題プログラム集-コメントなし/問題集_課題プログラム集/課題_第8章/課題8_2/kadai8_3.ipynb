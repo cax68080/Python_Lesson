#課題8.3　 
#Anaconda

import turtle
def draw_spiral(size):
    if size > 30:
        return
    kameo.forward(size)
    kameo.right(15)
    return draw_spiral(size*1.02) 

screen = turtle.Screen() 
screen.setup(600, 600)
screen.title('My Turtle Graphics')
kameo = turtle.Turtle() 
draw_spiral(5) 
screen.mainloop()
