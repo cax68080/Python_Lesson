#課題8.4　 
#Anaconda

import turtle 
def draw_circles(): 
    seven_colors = ['red', 'orange', 'yellow', 'green', 'blue',
                'indigo', 'violet']
    r = 30
    for i in seven_colors:
        kameo.pencolor(i)
        kameo.circle(r)
        r += 10
    
screen = turtle.Screen() 
screen.setup(600, 600)
screen.title('My Turtle Graphics') 
kameo = turtle.Turtle('turtle') 
kameo.pensize(3)   
draw_circles()    
screen.mainloop()
