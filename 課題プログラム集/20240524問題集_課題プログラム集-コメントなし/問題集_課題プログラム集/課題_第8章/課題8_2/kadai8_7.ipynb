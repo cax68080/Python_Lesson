#課題8.7
#Anaconda

import turtle
def draw_rectangle(step1, step2, angle, color): 
    kamesan.color(color)
    kamesan.begin_fill() 
    for count in range(2):
        kamesan.forward(step1)
        kamesan.right(angle)
        kamesan.forward(step2)
        kamesan.right(angle)
    
wn = turtle.Screen() 
wn.setup(800, 800)
wn.title('My Turtle Graphics') 
kamesan = turtle.Turtle() 
kamesan.hideturtle()
kamesan.speed(1)
draw_rectangle(50, 100, 90, 'blue')
kamesan.end_fill()
kamesan.penup()
kamesan.goto(50, 0)
kamesan.pendown()
kamesan.color('black')
kamesan.forward(50)
draw_rectangle(50, 100, 90, 'red')
kamesan.end_fill()
kamesan.penup()
kamesan.goto(50, -100)
kamesan.down()
kamesan.color('black')
kamesan.forward(50)

kamesan.penup()
kamesan.goto(70, 30)
kamesan.color('black')
kamesan.write('The French Flag', align = 'center',
          font = ('Arial', 15, 'normal'))
wn.mainloop()
