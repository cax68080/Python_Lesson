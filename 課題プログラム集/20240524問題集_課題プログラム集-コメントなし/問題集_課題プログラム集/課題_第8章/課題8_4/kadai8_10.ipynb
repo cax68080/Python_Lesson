#課題8.10＊
#Anaconda

def draw_tree(length, rate, angle, order):
    if order >= 0:     
        kameo.forward(length)
        kameo.right(angle)
        draw_tree(length*rate, rate, angle, order-1) 
        kameo.left(angle*2)
        draw_tree(length*rate, rate, angle, order-1)
        kameo.right(angle)
        kameo.backward(length)
    return
        
import turtle
screen = turtle.Screen() 
screen.setup(1200, 900) 
screen.title('My Turtle Graphics: A Fractal Tree') 
kameo = turtle.Turtle() 
kameo.penup()
kameo.goto(0, -400)
kameo.pendown()
kameo.pencolor('green') 
kameo.pensize(3)
#kameo.speed(0)
screen.tracer(100) 
kameo.left(90) 
length, rate, angle, order = 150, 0.82, 30, 12 
print('枝の長さの最小値： ', int(length*rate**order)) 
draw_tree(length, rate, angle, order) 
screen.mainloop() 
