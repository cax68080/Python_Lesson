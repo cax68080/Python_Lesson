#課題8.13* 
# Colab

from ColabTurtlePlus.Turtle import *
clearscreen()
def draw_tree(length, rate, limit, angle):
    if length >= limit:
        kameo.forward(length)
        kameo.right(angle)
        draw_tree(length*rate, rate, limit, angle) 
        kameo.left(angle*2)
        draw_tree(length*rate, rate, limit, angle)
        kameo.right(angle)
        kameo.backward(length)

screen = Screen()
screen.setup(1000, 1000)
kameo = Turtle() 
kameo.penup()
kameo.goto(0, -400)
kameo.pendown()
kameo.pensize(2)
kameo.pencolor('green')
kameo.speed(0) 
kameo.left(90) 
length, rate, limit, angle = 150, 0.82, 14, 30 
draw_tree(length, rate, limit, angle)
kameo.done()