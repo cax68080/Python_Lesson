#課題8.11＊
#Anaconda

def Koch_curve(length, order): 
    if order == 0:
        kameo.forward(length)
    elif order >= 1:
        for angle in [0, 60, -120, 60]: 
            kameo.left(angle)
            Koch_curve(length/3, order - 1) 

import turtle  
screen = turtle.Screen() 
screen.setup(600, 600) 
screen.title('My Turtle Graphics: a Koch Snawflake Figure') 
kameo = turtle.Turtle() 
kameo.hideturtle()
kameo.penup()
kameo.goto(-150, 100) 
kameo.speed(0)
kameo.pendown()
kameo.pensize(2)
length, order = 300, 4 

for i in range(3):
    Koch_curve(length, order) 
    kameo.right(120) 
screen.mainloop() 