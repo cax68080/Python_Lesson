#課題8.12＊
#Anaconda

def Sierpinski_triangle(length, angle, order):
    if order >= 0:
        for i in range(3): 
            kameo.forward(length)
            kameo.left(angle)
            Sierpinski_triangle(length/2, angle, order - 1) 

import turtle
screen = turtle.Screen() 
screen.setup(600, 600) 
screen.title('My Turtle Graphics: a Sierpinski_triangle Figure')   
kameo = turtle.Turtle() 
kameo.hideturtle()
kameo.penup()
kameo.goto(-200, -100)
kameo.pendown()
kameo.pensize(2)
#kameo.speed(0)
screen.tracer(100) 
length, angle, order = 300, 120, 5 
Sierpinski_triangle(length, angle, order)
screen.exitonclick() 
