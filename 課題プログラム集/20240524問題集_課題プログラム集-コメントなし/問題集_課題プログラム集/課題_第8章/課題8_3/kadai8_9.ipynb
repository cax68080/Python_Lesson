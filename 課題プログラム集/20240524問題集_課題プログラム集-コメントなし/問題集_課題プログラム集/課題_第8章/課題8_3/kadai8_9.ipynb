#課題8.9　 
#Anaconda

import turtle 
def motion(i):  
    kameo.forward(1.745) 
    kameo.left(1)
    kamea.forward(1.745) 
    kamea.right(1)
    if i == 180: 
        return 
    return motion(i+1)
def encounter(x, y): 
    kameo.pendown()
    kamea.pendown() 
    motion(0)     
def kameo_attribute():
    kameo.shape('turtle')
    kameo.color('blue')
    kameo.pensize(2)   
def kamea_attribute():
    kamea.shape('turtle')
    kamea.color('red')
    kamea.pensize(2)
   
screen = turtle.Screen()
screen.setup(600, 700)
screen.title('An Enkounter of Kameo and Kamea')
kameo = turtle.Turtle()
kameo_attribute()
kameo.goto(16, 0)
kamea = turtle.Turtle()
kamea_attribute()
kamea.goto(-16, 0)
kamea.setheading(180)
screen.onscreenclick(encounter) 
screen.mainloop()  
