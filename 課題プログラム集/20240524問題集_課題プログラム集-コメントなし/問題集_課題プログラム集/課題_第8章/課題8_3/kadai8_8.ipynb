#課題8.8　
#Anaconda

import turtle  
def draw_square(x, y):
    for i in range(4): 
        kameo.forward(200)
        kameo.left(90)  
        kamea.right(90)
        kamea.forward(195)
        
screen = turtle.Screen() 
screen.setup(700, 700)
screen.title('My Turtle On-Screen_Click Graphics')
kameo = turtle.Turtle() 
kameo.shape('turtle')
kameo.pensize(3)
kameo.pencolor('blue')
kamea = turtle.Turtle() 
kamea.shape('turtle')
kamea.pensize(3) 
kamea.pencolor('red')
#kameo.home() 
#kamea.home() 
screen.onscreenclick(draw_square) 
