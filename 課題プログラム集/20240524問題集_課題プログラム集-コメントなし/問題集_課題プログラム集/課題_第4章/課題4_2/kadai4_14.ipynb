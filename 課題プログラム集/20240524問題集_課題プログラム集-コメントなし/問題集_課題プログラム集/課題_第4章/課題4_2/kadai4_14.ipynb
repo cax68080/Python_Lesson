#課題4.14　 

from sympy import factorint
def factorization(n):
  dictn = factorint(n) 
  sumn = 0
  for k, v in dictn.items():
    sumn += k * v 
  return n, dictn, sumn  

x = int(input('Enter a digit: '))
x, dictx, sumx = factorization(x)
print(x, dictx, sumx) 
y = x + 1 
y, dicty, sumy = factorization(y)
print(y, dicty, sumy)
if sumx == sumy: 
  print(True)
else:
  print(False)
