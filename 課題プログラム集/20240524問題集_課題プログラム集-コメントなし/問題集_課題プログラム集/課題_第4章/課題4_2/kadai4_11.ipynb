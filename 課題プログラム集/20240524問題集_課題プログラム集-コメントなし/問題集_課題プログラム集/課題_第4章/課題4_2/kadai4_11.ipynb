#課題4.11　 

from sympy import isprime
for n in range(1, 20):
  num = 2**n - 1 
  if isprime(num): 
    pnum = num * 2**(n-1) 
    print(pnum)