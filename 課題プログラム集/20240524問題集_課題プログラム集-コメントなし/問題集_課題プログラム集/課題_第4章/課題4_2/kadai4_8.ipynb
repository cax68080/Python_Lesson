#課題4.8

pnum = [6, 28, 496, 8128, 33550336]
for i, elm in enumerate(pnum):
  x = []
  for j in range(1, elm):
    if elm % j == 0:
      x.append(j)
  print(pnum[i], x, sum(x))

