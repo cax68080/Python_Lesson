#課題4.12

import pprint
n = int(input('Enter an integer n in (2^n - 1) : '))
list_mer = list([2**i - 1 for i in range(1, n+1)]  )
list_merb = []
for i in list_mer:
  list_merb.append(bin(i))
print('メルセンヌ数', list_mer)
print('メルセンヌ数の2進数表記', list_merb)

