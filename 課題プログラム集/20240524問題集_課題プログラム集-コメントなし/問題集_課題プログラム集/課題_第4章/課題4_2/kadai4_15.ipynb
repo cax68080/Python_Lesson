#課題4.15

def divisors(n):
  list_divisors = []
  for i in range(1, n+1): 
    if n % i == 0:
      list_divisors.append(i)
  return list_divisors, len(list_divisors)

n = int(input('Enter an integer n = '))
listx = []
for i in range(1, n+1):
  listx.append(i**2)
print(listx)
for j in listx:
  list_divisors, size = divisors(j)
  if size % 2 != 0: 
    print('平方数', j, ' 約数のリスト', list_divisors, ' 個数', size, ' ', True)
