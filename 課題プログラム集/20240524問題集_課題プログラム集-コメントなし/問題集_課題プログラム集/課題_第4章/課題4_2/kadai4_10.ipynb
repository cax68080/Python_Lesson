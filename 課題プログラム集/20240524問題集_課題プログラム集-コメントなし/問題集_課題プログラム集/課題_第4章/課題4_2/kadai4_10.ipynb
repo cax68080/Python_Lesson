#課題4.10　 

def try_division(num) :
    list_pf= []
    divisor = 2 
    while num >= 2: 
      q, r = divmod(num, divisor)
      if r == 0: 
        list_pf.append(divisor) 
        num = q 
      else:
        divisor = divisor + 1 
    dict_pf = {i: list_pf.count(i) for i in list_pf}
    return dict_pf

from sympy import isprime
list_last_elm = [3, 7, 31, 127, 8191]
for i in list_last_elm:
  dict_pf = try_division(i+1) 
  if 2 in dict_pf and len(dict_pf) == 1: 
    print(i, '+ 1:', dict_pf, '\t', i, 'は 2の冪乗 — 1') 
    if isprime(i):
      print(i, ' メルセンヌ数でかつ素数')
      print()

