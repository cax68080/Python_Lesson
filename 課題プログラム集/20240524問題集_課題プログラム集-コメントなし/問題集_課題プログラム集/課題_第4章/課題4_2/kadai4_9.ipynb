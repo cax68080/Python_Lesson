#課題4.9　 

list_pnum = [6, 28, 496, 8128, 33550336] 
list_last_elm = []
k = 0
for i in list_pnum:
  sumx = 1
  for j in range(2, list_pnum[k]+ 1):
    sumx += j
    if sumx == i: 
      print('a perfect num:', list_pnum[k], 
            '  sum of elemnts:', sumx, '  last element:', j)
      list_last_elm.append(j)
      break
  k += 1
print('list_last_elm:', list_last_elm)    # [3, 7, 31, 127, 8191]
