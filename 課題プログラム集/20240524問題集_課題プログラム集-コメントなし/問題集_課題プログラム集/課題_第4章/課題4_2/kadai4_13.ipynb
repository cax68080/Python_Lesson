#課題4.13　 

def amifunc(pair):
  for n in pair:           # pair がタプル
    x = [i for i in range(1, n) if n % i == 0] 
    print('自然数', n, '　約数のリスト', x, '　約数の和', sum(x))

anum = [(220, 284), (1184, 1210), (2620, 2924),
        (5020, 5564), (6232, 6368)]
for i in anum:
  amifunc(i)
  print()
