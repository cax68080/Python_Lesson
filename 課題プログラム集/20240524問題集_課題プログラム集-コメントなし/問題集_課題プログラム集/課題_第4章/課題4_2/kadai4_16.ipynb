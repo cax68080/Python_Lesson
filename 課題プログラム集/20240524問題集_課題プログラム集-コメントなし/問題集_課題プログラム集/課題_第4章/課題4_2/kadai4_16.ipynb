#課題4.16

import sympy
n = int(input('Enter an integer n = ')) 
primes = list(sympy.primerange(2, n))
m = 10  
list_pm1 = [] 
for p in primes:
  listqs, listrs = [], [] 
  q, r = divmod(m, p) 
  listqs.append(q)
  listrs.append(r)
  if r == 0: 
    continue
  while True:
    r = r * 10
    q, r = divmod(r, p)
    listqs.append(q)
    listrs.append(r)
    if listrs[0] == r:
      break
  listqs.pop() 
  len_period = len(listqs) 
  if len_period == p -1: 
    list_pm1.append(p)
print('the number of primes with period p-1:', len(list_pm1))
print('the total number of primes:', len(primes))
print('rate:', round(len(list_pm1)/len(primes), 4))


#参考コード
fromi sympy import sieve
n = int(input('Enter an integer n = '))
primes = list(sieve.primerange(2, n))

