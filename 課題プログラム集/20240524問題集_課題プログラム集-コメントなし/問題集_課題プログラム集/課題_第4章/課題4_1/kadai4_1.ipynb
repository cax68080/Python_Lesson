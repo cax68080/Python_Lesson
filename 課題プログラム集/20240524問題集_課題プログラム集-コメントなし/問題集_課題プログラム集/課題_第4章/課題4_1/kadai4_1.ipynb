#課題4.1　

import sympy
primes = list(sympy.primerange(3, 100))
print(primes)
print('素数の総数', len(primes))
listx = []
listy = []
for n in range(1, 25): 
  x = 4*n + 1
  if x in primes:
    listx.append(x)
  y = 4*n -1
  if y in primes:
    listy.append(y)
print('4n + 1 に分類', listx, ' 個数', len(listx))
print('4n - 1 に分類', listy, ' 個数', len(listy))
print('素数の個数の和', len(listx) + len(listy))
