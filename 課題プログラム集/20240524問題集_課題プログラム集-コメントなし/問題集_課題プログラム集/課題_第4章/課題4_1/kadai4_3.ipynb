#課題4.3　 

import itertools
import sympy
digit = '123456789'
i = 0
for v in itertools.permutations(digit):
  i += 1
  v = int(''.join(v))
  if sympy.isprime(v):
    print(v, True)
print('順列の総数', i,  '  no primes')

