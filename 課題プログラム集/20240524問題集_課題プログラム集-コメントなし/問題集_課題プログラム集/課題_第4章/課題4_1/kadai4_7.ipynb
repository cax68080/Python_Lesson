#課題4.7 

def find_list_divs(n): 
  list_divs = [1] 
  for i in range(2, n): 
    if n % i == 0:
      list_divs.append(i)
  return list_divs 

n = int(input('Enter an integer n: '))
list_divs = find_list_divs(n)
if n == sum(list_divs):
  print('True. a perfect number.', sum(list_divs))
  print(list_divs)
else:
  print('False. not a perfect number.', sum(list_divs))
  print(list_divs)
