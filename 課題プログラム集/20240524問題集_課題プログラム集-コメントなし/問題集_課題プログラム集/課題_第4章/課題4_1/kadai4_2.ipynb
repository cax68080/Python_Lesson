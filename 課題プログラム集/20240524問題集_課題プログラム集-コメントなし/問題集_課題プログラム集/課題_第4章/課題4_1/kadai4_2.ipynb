#課題4.2　 

import numpy as np
import matplotlib.pyplot as plt
import sympy

x = np.array([10, 10**2, 10**3, 10**4, 10**5,
              10**6, 10**7, 10**8, 10**9, 10**10]) 
y = []
for i in range(1, 11): 
  n = 10 ** i
  y.append(sympy.primepi(n))
y = np.array(y)
print('π(n)', y, len(y))

yg = []
for i in range(1, 11):
  n = 10 ** i
  yg.append(int(n / np.log(n)))
yg = np.array(yg) 
print('漸近値', yg, len(yg))

plt.scatter(x, y, marker = 'o', s = 30)
plt.scatter(x, yg, marker = 'x', s = 30) 
plt.xscale('log')
plt.yscale('log')
plt.xlabel('integer')
plt.ylabel('number of prims')
plt.show()

print()
ratio = []
for i in range(0, 9):
  ratio.append(round(y[i]/yg[i], 3))
print(ratio)

