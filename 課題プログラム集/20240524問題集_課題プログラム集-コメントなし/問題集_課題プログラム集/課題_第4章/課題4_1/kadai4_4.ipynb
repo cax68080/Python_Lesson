#課題4.4　 

import sympy
num = 31
list_num =[i for i in str(num)]
print(list_num)
print(num)
for i in range(1, 10):
  if sympy.isprime(num):
    print(num, True)
  else:
    print(num, False)
  if i <= 8:
    list_num.insert(0, '3')
    print(list_num, len(list_num))
    num = int(''.join(list_num))
    print(num)

