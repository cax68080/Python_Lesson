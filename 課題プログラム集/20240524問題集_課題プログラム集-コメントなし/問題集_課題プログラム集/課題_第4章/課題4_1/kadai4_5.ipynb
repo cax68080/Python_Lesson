#課題4.5　 

from sympy import isprime
n = 73939133
while n > 0:
  print(n, isprime(n))
  n = n // 10
