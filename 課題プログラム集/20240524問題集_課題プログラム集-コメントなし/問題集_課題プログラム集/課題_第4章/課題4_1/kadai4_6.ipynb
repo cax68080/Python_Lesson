#課題4.6　 

from sympy import isprime
n = 357686312646216567629137
while n > 0:
  print(n, isprime(n))
  list_digit = [i for i in str(n)]
  list_digit.pop(0)
  if list_digit == []:
    break
  n = int(''.join(list_digit))
