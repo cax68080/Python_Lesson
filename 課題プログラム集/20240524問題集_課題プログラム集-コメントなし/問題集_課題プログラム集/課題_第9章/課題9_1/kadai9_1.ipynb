#課題9.1
#Anaconda

import tkinter as tk
##　Model（モデル部）: 算術式 を計算して値を出力する
# イベントハンドラー basic_calc(event) 関数を定義する
def basic_calc(values):
    x = float(x_box.get())
    y = float(y_box.get())
    op = op_box.get()
    if op == '+':
        z = x + y
    elif op == '-':
        z = x - y
    elif op == '*':
        z = x * y
    elif op == '/':
        z = x / y
    elif op == '//':
        z = x // y
    elif op == '%':
        z = x % y
    elif op == '**':
        z = x ** y
    else:
      z = 'invalid'
    result_box.delete(0, tk.END)
    result_box.insert(0, z)
    
def finish(event):
    root.destroy()
    
## View （外観部）
# ウインドウを作り，ラベル，ボックスを作り，これらを配置する
root= tk.Tk()
root.geometry('400x300')
root.title('Basic Calculator')
input_label = tk.Label(text = '二つの数を入力してください') 
input_label.pack()
x_label= tk.Label(text = 'x') 
x_label.pack()
x_box = tk.Entry()
x_box.pack()
y_label=tk.Label(text = 'y')
y_label.pack()
y_box = tk.Entry()
y_box.pack()
input_label = tk.Label(text = '演算子を +,  -,  *,  /,  //,  %,  **  \
の中から一つを選んでください') 
input_label.pack()
op_label= tk.Label(text = '演算子') 
op_label.pack()
op_box = tk.Entry()
op_box.pack()
calc_button = tk.Button()
calc_button['text'] = '計算ボタン'
calc_button.pack()
result_label= tk.Label(text = '結果')
result_label.pack()
result_box = tk.Entry()
result_box.pack()
fin_button = tk.Button()
fin_button['text'] = '終了ボタン'
fin_button.pack()

## Controller（制御部）
# イベントとイベントハンドラーを結合させる
calc_button.bind('<Button-1>', basic_calc) 
fin_button.bind('<Button-1>', finish) 
root.mainloop()
