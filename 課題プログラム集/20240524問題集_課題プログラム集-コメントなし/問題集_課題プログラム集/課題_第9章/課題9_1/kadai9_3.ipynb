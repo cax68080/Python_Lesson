#課題9.3＊   GPA（Grade Point Average）計算器アプリ
#Anaconda

import tkinter as tk 
import tkinter.ttk as ttk 

##　Model: GPAcalculation
gp_credit = 0
credits = 0
def GPA_handler(event):
    global gp_credit
    global credits
    subject = subject_box.get() 
    credit = int(credit_box.get()) 
    RS = float(score_box.get()) 
    if RS > 100:
        print('入力エラー，点数を入れなおしてください！')
    LG, GP = LGGP_calc(RS)
    LG_box.delete(0, tk.END)
    LG_box.insert(0, LG)
    GP_box.delete(0, tk.END)
    GP_box.insert(0, GP)
    if RS <= 100.0:
        gp_credit += GP*credit 
        credits += credit 
        GPA = gp_credit / credits
        GPA = round(GPA, 2)
        GPA_box.delete(0, tk.END)
        GPA_box.insert(0, GPA)
        tree.insert('', 'end', values = (subject, credit, RS, LG, GP, GPA))  
# 履修表に1行の成績レコードを書き込む

def fin_handler(event): 
    root.destroy()   

def LGGP_calc(RS):
    if 90 <= RS <=100: 
        LG = 'S'
        GP = 4.0
    elif 80 <= RS < 90:
        LG = 'A'
        GP = 3.0
    elif 70 <= RS < 80:
        LG = 'B'
        GP = 2.0
    elif 60 <= RS < 70: 
        LG = 'C'
        GP = 1.0
    else: 
        LG = 'F'
        GP = 0.0
    return LG, GP

## View
# ウインドウを作り，ラベル，ボックスを作り，これらを配置する
root= tk.Tk()                        #ウィンドウの作成
root.geometry('600x600')
root.title('GPA (Grade Point Average) 計算器')

input_label = tk.Label(text = 'あなたのデータを入力してください') #ラベルを作る
input_label.pack()
subject_label= tk.Label(text = '履修科目名') 
subject_label.pack() 
subject_box = tk.Entry() 
subject_box.pack() 

credit_label= tk.Label(text = '単位数')
credit_label.pack()
credit_box = tk.Entry()
credit_box.pack()

score_label= tk.Label(text = '点数')
score_label.pack()
score_box = tk.Entry()
score_box.pack()

calc_button = tk.Button() 
calc_button['text'] = '計算ボタン'
calc_button.pack()

LG_label= tk.Label(text = 'LG')
LG_label.pack()
LG_box = tk.Entry()
LG_box.pack()

GP_label= tk.Label(text = 'GP')
GP_label.pack()
GP_box = tk.Entry()
GP_box.pack()

GPA_label=tk. Label(text = 'GPA')
GPA_label.pack()
GPA_box = tk.Entry()
GPA_box.pack()

fin_button = tk.Button() 
fin_button['text'] = '終了ボタン'
fin_button.pack()

# 履修表の作成
tree = ttk.Treeview(root) 
tree['columns'] = (1, 2, 3, 4, 5, 6) 
tree['show'] = 'headings' 
tree.column(1, width = 120) 
tree.column(2, width = 60)
tree.column(3, width = 50)
tree.column(4, width = 50)
tree.column(5, width = 50)
tree.column(6, width = 50)
tree.heading(1, text = '履修科目名', anchor='w') 
tree.heading(2, text = '単位数', anchor='w')
tree.heading(3, text = '点数', anchor='w')
tree.heading(4, text = 'LG', anchor='w')
tree.heading(5, text = 'GP', anchor='w')
tree.heading(6, text = 'GPA', anchor='w')
tree.place(x = 100, y = 350) 

##　Controller 
calc_button.bind('<Button-1>', GPA_handler) 
fin_button.bind('<Button-1>', fin_handler) 
root.mainloop() 
