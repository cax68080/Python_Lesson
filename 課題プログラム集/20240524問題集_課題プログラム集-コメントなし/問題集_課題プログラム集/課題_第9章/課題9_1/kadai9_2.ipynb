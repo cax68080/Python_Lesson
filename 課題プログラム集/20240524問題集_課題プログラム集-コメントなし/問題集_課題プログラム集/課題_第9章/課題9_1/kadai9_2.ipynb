#課題9.2       Credit Card Nummber Checkerアプリ
#Anaconda

import tkinter as tk
#　Model（モデル部）
def check_digit(event): 
    ccn = x_box.get()
    ccn = ccn.replace(' ', '')
    figs = ccn[::-1]
    sum_odd, sum_even = 0, 0
    for i, j in enumerate(figs, 1): 
        if i % 2 != 0: 
            sum_odd += int(j) 
        else: 
            n = int(j) * 2
            if n >= 10:
                sum_even += n - 9
            else:
                sum_even += n
    sum_ccn = sum_odd + sum_even  
    if sum_ccn % 10 == 0:
        ccn_box.delete(0, tk.END)
        ccn_box.insert(0, 'True')
    else:
        ccn_box.delete(0, tk.END)
        ccn_box.insert(0, 'False')
    
def finish(event):
    root.destroy()
    
## View (外観部）
root= tk.Tk()
root.geometry('400x220')
root.title('Credit Card Number Checker')
input_label = tk.Label(text = 'クレジット番号を左端から4桁ごとに\
空白を1つ入れて入力してください') 
input_label.pack()
x_label= tk.Label(text = 'Credit Card Number') 
x_label.pack()
x_box = tk.Entry()
x_box.pack()
calc_button = tk.Button()
calc_button['text'] = '計算ボタン'
calc_button.pack()
ccn_label= tk.Label(text = 'Check Digit')
ccn_label.pack()
ccn_box = tk.Entry()
ccn_box.pack()
fin_button = tk.Button()
fin_button['text'] = '終了ボタン'
fin_button.pack()

##　Controller（制御部）
calc_button.bind('<Button-1>', check_digit) 
fin_button.bind('<Button-1>', finish) 
root.mainloop()
