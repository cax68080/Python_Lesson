#課題9.5*   BMI計算器アプリ
#Anaconda

import PySimpleGUI as sg
## Model 
def BMI_calc(values): 
    height = float(values[0]) / 100
    weight = float(values[1])
    bmi = round(weight / (height*height), 1)
    return bmi

## View  
layout = [
  [sg.Text('あなたのデータを入力してください')],
  [sg.Text('身長(cm) '), sg.Input()],
  [sg.Text('体重(kg) '), sg.Input()],  
  [sg.Submit(button_text = '計算ボタン')],
  [sg.Submit(button_text = '終了ボタン')],
  [sg.Submit(button_text = 'BMI')]]
# ウィンドウオブジェクトの生成
window = sg.Window('BMI(Body Mass Index)計算器', layout) 

## Controller 
while True:    
    event, values = window.read() 
    if event == '計算ボタン': 
        bmi = BMI_calc(values)
        sg.popup(bmi)       
    if event == '終了ボタン' or event == sg.WIN_CLOSED:
        break 
window.close() 