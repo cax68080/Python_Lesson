#課題1.21　

from math import factorial
sumx = 0
for i in range(1, 11):
  sumx += i/factorial(i+1)
  print(i, ': ', sumx)
