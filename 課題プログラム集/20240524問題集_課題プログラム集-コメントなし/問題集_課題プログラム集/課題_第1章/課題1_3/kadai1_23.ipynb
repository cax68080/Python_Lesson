#課題1.23　 

from math import factorial
sumx = 1
for i in range(1, 11):
  sumx += i*i/factorial(i+1)
  print(sumx)
