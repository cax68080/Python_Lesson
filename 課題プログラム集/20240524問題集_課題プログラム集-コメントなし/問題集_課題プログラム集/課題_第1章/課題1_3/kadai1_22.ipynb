#課題1.22　

from math import factorial
sumx = 0
for i in range(1, 12):
  sumx += i/factorial(i)
  print(sumx)
