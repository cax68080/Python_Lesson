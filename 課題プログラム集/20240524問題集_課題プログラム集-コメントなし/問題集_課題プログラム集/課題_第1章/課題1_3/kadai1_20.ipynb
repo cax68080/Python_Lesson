#課題1.20　
　
sumx = 0
for i in range(1, 11):
  sumx += 9/pow(10, i)
  print(i, ': ', sumx)
