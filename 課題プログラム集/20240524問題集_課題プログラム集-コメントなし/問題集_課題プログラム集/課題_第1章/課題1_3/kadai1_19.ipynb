#課題1.19  

n = int(input("Enter a number: "))
for i in range(n, -1, -1):
  print(i) 
