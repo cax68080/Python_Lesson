#課題1.24　

teams = ['A', 'B', 'C', 'D', 'E', 'F']
oppnts = ['A', 'B', 'C', 'D', 'E', 'F']
print('参加チーム： ', len(teams))
num = 0
dict_league = {} 
for i in teams:
  oppnts.remove(i)
  print('チーム', i, '  相手チーム', tuple(oppnts))
  num += len(oppnts)
  dict_league[i] = tuple(oppnts)
print('試合総数:', num)
print(dict_league)
