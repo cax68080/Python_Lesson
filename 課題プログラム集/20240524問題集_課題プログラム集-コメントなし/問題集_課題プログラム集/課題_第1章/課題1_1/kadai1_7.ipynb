課題1.7　

listx = [int(i) for i in input().split()] 
print(listx)
print(listx.count(listx[0]) == len(listx))


#別解1
listx = [20, 20, 20]
print(all(i == listx[0] for i in listx ))


#別解2
listx = [int(i) for i in input().split()]
print(listx)
setx = set(listx) 
if len(setx) == 1:
  print('all elements are equal', setx)
else:
  print('not equal')
