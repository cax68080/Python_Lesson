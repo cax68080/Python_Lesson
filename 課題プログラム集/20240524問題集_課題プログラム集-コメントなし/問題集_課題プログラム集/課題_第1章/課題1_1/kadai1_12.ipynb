#課題1.12＊　

import numpy as np
x = [83, 79.5, 50, 68, 72, 60.5, 90, 85, 55, 95]
y = [85, 74, 55, 72.5, 64, 60, 81, 77, 63.5, 90]
meanx = np.mean(x)
meany = np.mean(y)
stdx = np.std(x)
stdy = np.std(y)
covarxy = 0
for i, j in zip(x, y):
  covarxy += (i - meanx) * (j -meany)
covarxy = covarxy / len(x)
corr = covarxy / (stdx * stdy)
print('相関係数 r：', round(corr, 3)) 
a = corr * stdy / stdx
b = meany - a * meanx
print('傾き a：', round(a, 3)) 
print('y切片 b：', round(b, 3))

print('\n', 'Use Numpy.')
print('相関係数 r：', round(np.corrcoef(x, y)[0, 1], 3))
a, b = np.polyfit(x, y, 1)
print('傾き a：', round(a, 3))
print('y切片 b：', round(b, 3)) 

