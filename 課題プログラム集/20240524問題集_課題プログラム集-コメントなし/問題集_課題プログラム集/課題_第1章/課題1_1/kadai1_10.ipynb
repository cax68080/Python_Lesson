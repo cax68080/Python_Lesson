#課題1.10＊　

import random
random.seed(200) 
list_test = [random.randint(0, 100) for i in range(20)] 
print(len(list_test), list_test, )
list_ds = sorted(list_test, reverse = True)
list_pass = [i for i in list_ds if i >= 60] 
print(len(list_pass), list_pass)


#参考コード
list_pass = []
for i in list_ds:
  if i >= 60:
    list_pass.append(i
    

list_pass = list(filter(lambda x : x >= 60, list_ds))


