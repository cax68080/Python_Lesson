#課題1.9　 

datax = 'abcdefg'
print('元のデータ ', datax)
#1 文字列をスライスする
print('逆順1', datax[::-1])
#2 組み込み関数　reversed(data) を使う
print(reversed(datax))
print(list(reversed(datax))) 
print('逆順2', ''.join(list(reversed(datax))))
print(datax) 
