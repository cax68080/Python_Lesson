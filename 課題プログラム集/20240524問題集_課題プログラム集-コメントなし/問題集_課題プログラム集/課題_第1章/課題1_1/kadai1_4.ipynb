#課題1.4　

import math
x, y = map(int, input('Enter integers with a spce: ').split())
print('GCD:', math.gcd(x, y))
