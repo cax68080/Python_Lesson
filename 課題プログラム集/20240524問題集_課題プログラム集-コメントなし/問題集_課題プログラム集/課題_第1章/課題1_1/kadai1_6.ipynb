#課題1.6　 

test = ['Math', 65, 73.6, 98.5, 68, 54, 75.8] 
maxv = max(test[1:])
minv = min(test[1:])
mean = round(sum(test[1:])/len(test[1:]), 2) 
print(maxv, minv, mean) 

