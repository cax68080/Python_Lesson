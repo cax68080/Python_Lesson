#課題1.11＊

import pprint
list_rec = [('Mary', 'B', 75), ('David', 'A', 85,), ('Suzan', 'C', 65),
            ('John', 'S', 95), ('Robert', 'F', 55), ('Alice', 'A', 80)]
list_name = sorted(list_rec, key = lambda x: x[0])
pprint.pprint(list_name)
print()
list_name = sorted(list_rec, key = lambda x: x[2], reverse = True) 
pprint.pprint(list_name)

