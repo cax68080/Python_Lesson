#課題1.3＊　

x = int(input('Enter a money(yen): '))
r = 10 
n = 365/10 
sums = x + x * r /100 * n
print('単利の場合の元利合計（円）', int(sums)) 
sumc = x * (1 + r/100)**n
print('複利の場合の元利合計(円）', int(sumc)) 
