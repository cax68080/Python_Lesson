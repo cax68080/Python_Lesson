#課題1.2　

total = 43200
x = total / sum(range(1, 9))
print('1Lの鍋の値段 ', x) 
listp = [x, 2*x, 3*x, 4*x, 5*x, 6*x, 7*x, 8*x]  
print(sum(listp))