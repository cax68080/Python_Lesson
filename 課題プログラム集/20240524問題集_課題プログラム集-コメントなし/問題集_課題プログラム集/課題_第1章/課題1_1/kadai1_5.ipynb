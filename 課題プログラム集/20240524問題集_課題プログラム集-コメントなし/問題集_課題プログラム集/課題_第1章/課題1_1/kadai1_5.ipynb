#課題1.5　

from sympy import isprime
n = int(input('Enter a natural number : '))
print(isprime(n))


#参考コード
if isprime(n):
  print(True)
else:
  print(False) 
