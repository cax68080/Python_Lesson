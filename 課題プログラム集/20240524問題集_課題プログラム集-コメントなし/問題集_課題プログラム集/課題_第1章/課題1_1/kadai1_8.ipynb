#課題1.8　

import random
n = 16 
chas = 'あいうえおかきくけこさしすせそたちつてとなにぬねの\
はひふへほまみむめもやゆよらりるれろわゐゑをん'
list_pwd = [random.choice(chas) for i in range(n)] 
print(list_pwd)
str_pwd = ''.join(list_pwd)
print(str_pwd, len(str_pwd), sep = '\t')

