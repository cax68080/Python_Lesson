#課題1.17　 

w = float(input('Enter a weight(g) = '))
if w <= 25.0: 
  postage = 84
elif 25.0 < w <= 50.0: 
  postage = 94
if 0 < w <= 50: 
  print('郵便料金は', postage, '円です。')
else: 
  print('定形郵便物ではありません。')
