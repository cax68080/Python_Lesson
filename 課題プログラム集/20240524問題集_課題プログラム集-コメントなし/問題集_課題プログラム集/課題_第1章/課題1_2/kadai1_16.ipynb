#課題1.16　

string1 = input('Enter a string: ')
string2 = input('Enter a string: ')
print(string1, len(string1), sorted(string1))
print(string2, len(string2), sorted(string2))
if len(string1) != len(string2) or sorted(string1) != sorted(string2):
  print('not anagram')
else:
  print('anagram')


#別解 
import itertools
string1 = input('Enter a string: ')
string2 = input('Enter a string: ')
ang_list = [''.join(w) for w in itertools.permutations(string1)]
print('anagram list', ang_list)
if string2 in ang_list:
  print('anagram')
else:
  print('not anagram')
