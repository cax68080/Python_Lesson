#課題1.14  

height = float(input('身長（cm）を入力してください:  ')) / 100
weight = float(input('体重（kg）を入力してください:  '))
bmi = weight / height ** 2
print('BMI', round(bmi, 1))
if bmi < 18.5: 
print('低体重です')
elif 18.5 <= bmi < 25.0: 
  print('普通体重です')
elif 25 <= bmi < 30.0: 
  print('肥満（1度）です')
elif 30 <= bmi < 35.0: 
print('肥満（2度）です')
elif 35 <= bmi < 40.0: 
  print('肥満（3度）です')
else: 
  print('肥満（4度）です')
