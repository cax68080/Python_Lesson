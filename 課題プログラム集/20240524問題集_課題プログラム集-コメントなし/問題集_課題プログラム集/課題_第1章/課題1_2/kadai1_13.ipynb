#課題1.13　 

bmi = float(input('Enter a BMI: '))
if bmi <= 18.0 :
  print('ファッションショーへの出演不可')
else:
  print('ファッションショーへの出演可')
