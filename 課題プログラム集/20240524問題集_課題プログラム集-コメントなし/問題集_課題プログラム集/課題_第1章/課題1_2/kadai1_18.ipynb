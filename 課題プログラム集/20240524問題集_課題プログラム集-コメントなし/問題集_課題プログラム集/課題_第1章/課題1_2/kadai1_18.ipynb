#課題1.18　 

w = float(input('Enter a weight(g): '))
if 0 < w <= 50:
  postage = 120
elif 50 < w <= 100:
  postage = 140
elif 100 < w <= 150:
  postage = 210
elif 150 < w <= 250:
  postage = 210
elif 250 < w <= 500:
  postage = 390
elif 500 < w <= 1000:
  postage = 580
if 0 < w <= 1000:
  print('郵便料金は', postage, '円です。')
else:
  print('郵便物は規格外です。')
