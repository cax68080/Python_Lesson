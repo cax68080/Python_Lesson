#課題1.15＊  

year = int(input('Enter a year: '))
if (year % 400 == 0) or (year % 4 == 0 and year % 100 != 0):
  print( year, ' True, a leap year' ) 
else: 
  print( year, ' False, a common year' ) 


#別解
from calendar import isleap 
year = int(input('Enter a year = '))
print(isleap(year)) 
