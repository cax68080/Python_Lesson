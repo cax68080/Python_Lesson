#課題1.31　 

text = 'Peter Piper picked a peck of pickled peppers;\
A peck of pickled peppers Peter Piper picked;\
If Peter Piper picked a peck of pickled peppers,\
Where’s the peck of pickled peppers Peter Piper picked?'
countx = 0
for i in text:
  if i == 'P' or i == 'p':
    countx += 1
print('P と p の数:', countx)
print('Pの数:', text.count('P') )
print('pの数:', text.count('p'))
