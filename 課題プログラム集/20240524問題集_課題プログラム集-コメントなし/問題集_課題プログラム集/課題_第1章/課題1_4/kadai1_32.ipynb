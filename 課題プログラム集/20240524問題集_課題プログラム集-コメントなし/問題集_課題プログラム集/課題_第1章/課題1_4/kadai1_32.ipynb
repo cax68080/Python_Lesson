#課題1.32　

year = {'1月':31, '2月':28, '3月':31, '4月':30, '5月':31, '6月':30, 
'7月':31, '8月':31, '9月':30, '10月':31, '11月':30, '12月':31}
large = [] 
small = []
for m, d in year.items(): 
if d == 31:
large.append(m) 
else:
small.append(m)
print('大の月', large)
print('小の月', small)


#別解
for month in range(1, 13): 
if month % 2 == 0 and  month >= 8: 
  print(month, ' 大の月')
elif month % 2 == 0 and  month < 8: 
print(month, ' 小の月')   
  elif month % 2 != 0 and  month >= 9: 
    print(month, ' 小の月')
  elif month % 2 != 0 and  month < 9: 
    print(month, ' 大の月')

