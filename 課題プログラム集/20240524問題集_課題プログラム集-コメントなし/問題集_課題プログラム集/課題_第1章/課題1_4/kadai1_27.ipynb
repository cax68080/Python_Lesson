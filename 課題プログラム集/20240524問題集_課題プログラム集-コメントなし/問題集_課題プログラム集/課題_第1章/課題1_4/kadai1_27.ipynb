#課題1.27　

n = 200 
for i in range(1, n+1):
  i = i * 11
  if i == 110:
    continue
  if i > 200:
    break
  if i % 11 == 0:
    j = str(i)
    print(j)
    if int(j[::-1]) % 11 == 0:
      print(int(j[::-1]))
      print(True)
      print()
