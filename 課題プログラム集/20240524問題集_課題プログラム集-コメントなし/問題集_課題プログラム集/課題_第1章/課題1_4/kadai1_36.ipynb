#課題1.36＊　

set_F, set_B, set_FB = set(), set(), set()        
for num in range(1, 21): 
  if num % 3 == 0 and num % 5 == 0:      
    set_FB.add(num)
  elif num % 3 == 0: 
    set_F.add(num)
  elif num % 5 == 0: 
    set_B.add(num)
print('set of Fizzes: ', set_F, len(set_F)) 
print('set of Buzzes: ', set_B, len(set_B)) 
print('set of FizzBuzzes: ', set_FB, len(set_FB)) 
