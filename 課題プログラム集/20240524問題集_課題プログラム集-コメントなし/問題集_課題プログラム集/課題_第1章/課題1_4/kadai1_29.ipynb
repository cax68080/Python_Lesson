#課題1.29　

n = 200
for i in range(9, n+1, 9):
  j = str(i)
  sumx = 0
  for k in j:
    sumx += int(k)
  print(i, ' digit sum', sumx, end = '  ')
  if sumx % 9 == 0:
    print(True)
