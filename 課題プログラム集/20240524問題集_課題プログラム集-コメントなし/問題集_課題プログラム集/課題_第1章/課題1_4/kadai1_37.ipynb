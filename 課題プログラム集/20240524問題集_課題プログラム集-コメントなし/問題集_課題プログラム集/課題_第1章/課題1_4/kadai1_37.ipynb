#課題1.37＊  　

set_all = {i for i in range(1, 17)}
set_3 = {i for i in range(1,17) if i % 3 == 0}
set_5 = {i for i in range(1, 17) if i % 5 == 0}
set_f = {i for i in range(1, 17) if i % 3 == 0 and i % 5 != 0}
set_b = {i for i in range(1, 17) if i % 3 != 0 and i % 5 == 0}
set_fb = {i for i in range(1, 17) if i % 3 == 0 and i % 5 == 0}
set_oth =  {i for i in range(1, 17) if i % 3 != 0 and i % 5 != 0}
print('set_all:  ', len(set_all), set_all)
print('set_3:  ', len(set_3), set_3)
print('set_5:  ', len(set_5), set_5)
print('set_f:  ', len(set_f), set_f)
print('set_b:  ', len(set_b), set_b)
print('set_fb:  ', len(set_fb),set_fb)
print('set_oth:  ', len(set_oth),set_oth)
print()
print(set_f | set_b | set_fb | set_oth)
print(set_3 | set_5 | set_oth)
print(set_3 & set_5)
print(set_3 - set_fb)
print(set_5 - set_fb)
print(set_f ^ set_b)
