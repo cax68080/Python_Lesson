#課題1.28　

n = 50
for i in range(3, n+1, 3): 
  j = str(i) 
  sumx = 0
  for k in j: 
    sumx += int(k) 
  print(i, ' digit sum', sumx, end = '  ') 
  if sumx % 3 == 0: 
    print(True)
