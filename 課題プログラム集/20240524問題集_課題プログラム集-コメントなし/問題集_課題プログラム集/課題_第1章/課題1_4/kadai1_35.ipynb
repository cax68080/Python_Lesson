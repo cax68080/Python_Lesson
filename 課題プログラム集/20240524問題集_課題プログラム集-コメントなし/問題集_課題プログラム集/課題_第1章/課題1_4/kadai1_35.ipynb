#課題1.35＊　

n = int(input('Enter an integer n = ')) 
print('3の倍数 Fizz：', list(filter(lambda x: x % 3 == 0, range(1, n+1))))
print('5の倍数 Buzz：', list(filter(lambda x: x % 5 == 0, range(1, n+1))))
print('両方の倍数 FizzBuzz：',
      list(filter(lambda x:  x % 3 == 0 and x % 5 == 0, range(1, n+1))))
