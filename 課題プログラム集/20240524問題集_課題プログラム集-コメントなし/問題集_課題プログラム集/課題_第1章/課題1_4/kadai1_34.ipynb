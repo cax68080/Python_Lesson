#課題1.34　

num = 1
while num <= 20:
  if num % 3 == 0 and num % 5 == 0:   
    print('Fizz&Buzz')
  elif num % 3 == 0:
    print('Fizz')
  elif num % 5 == 0:
    print('Buzz')  
  else:
    print(num)
  num += 1
