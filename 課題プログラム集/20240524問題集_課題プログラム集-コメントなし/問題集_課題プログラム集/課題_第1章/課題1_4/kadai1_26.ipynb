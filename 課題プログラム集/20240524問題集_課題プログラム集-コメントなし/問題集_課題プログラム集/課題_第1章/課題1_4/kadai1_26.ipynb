#課題1.26　

for i in range( 2, 8):
  n = 101**i
  print('101 の', i, '乗')
  print(str(n))
  if str(n) == str(n)[::-1]:
    print(True)
    print()
  else:
    print(False)
    print()
