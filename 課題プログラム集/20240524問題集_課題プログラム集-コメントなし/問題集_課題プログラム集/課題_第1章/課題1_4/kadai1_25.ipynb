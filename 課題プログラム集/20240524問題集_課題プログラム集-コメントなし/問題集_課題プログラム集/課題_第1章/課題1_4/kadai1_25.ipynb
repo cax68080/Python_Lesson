#課題1.25　 

import string
stringx = '2 * 3 + 4 / 5'  
list_eqn = stringx.split() 
print(list_eqn) 
for i, elm in enumerate(list_eqn): 
  if elm not in '+-*/': 
    list_eqn[i] = int(elm) 
print(list_eqn) 
