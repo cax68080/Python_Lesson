#課題1.33＊　

import hyakunin_isshu
letter_group = [['む', 'す', 'め', 'ふ', 'さ', 'ほ', 'せ'],
                ['う', 'つ', 'し', 'も', 'ゆ'],['い', 'ち', 'ひ', 'き']]
for i in letter_group:
  num = []
  for j in i:
    for k, v in hyakunin_isshu.hyakunin_isshu.items():
      if j == v[0]:
        num.append(k)
        print(k, v)
  print(sorted(num), len(num))
  print()
