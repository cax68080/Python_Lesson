#課題1.39　 

listx = [2, 3, 4, 5, 6, 7, 8, 9, 10, 11, 12]
listp = [1/36, 2/ 36, 3/36, 4/36, 5/36, 6/36, 5/36, 4/36, 3/ 36, 2/36, 1/36]
dictxp = dict(zip(listx, listp)) 
print(round(dictxp[7], 3)) 
prob_m7 = 0
for k in dictxp.keys():
  if k >= 7:
    prob_m7 += dictxp[k]
print(round(prob_m7, 3)) 
prob_even = 0
for k in dictxp.keys():
  if k % 2 == 0:
    prob_even += dictxp[k]
print(round(prob_even, 3)) 
