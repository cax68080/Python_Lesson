#課題1.38　

import pprint
listx = [2, 3, 4, 5, 6, 7, 8, 9, 10, 11, 12]
listp = [1/36, 2/ 36, 3/36, 4/36, 5/36, 6/36, 5/36, 4/36, 3/ 36, 2/36, 1/36]
dictxp = dict(zip(listx, listp))
print(len(dictxp))
pprint.pprint(dictxp)
ex = 0
for i, j in dictxp.items(): 
  ex += i * j
print('期待値 ', round(ex, 1)) 

