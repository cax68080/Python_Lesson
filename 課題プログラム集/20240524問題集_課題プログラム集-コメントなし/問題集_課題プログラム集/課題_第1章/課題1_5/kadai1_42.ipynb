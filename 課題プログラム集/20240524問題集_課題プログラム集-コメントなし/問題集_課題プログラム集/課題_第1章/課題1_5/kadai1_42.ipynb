#課題1.42　 

listx = [0, 1, 2, 3, 4, 5] 
listp = [6/36, 10/ 36, 8/36, 6/36, 4/36, 2/36]
dictxp = dict(zip(listx, listp))
print(round(dictxp[2], 3))
prob_m3 = 0 
for k in dictxp.keys():
  if k >= 3:
    prob_m3 += dictxp[k] 
print(round(prob_m3, 3))
prob_odd = 0 
for k in dictxp.keys():
  if k % 2 != 0:
    prob_odd += dictxp[k]
print(round(prob_odd, 3))
