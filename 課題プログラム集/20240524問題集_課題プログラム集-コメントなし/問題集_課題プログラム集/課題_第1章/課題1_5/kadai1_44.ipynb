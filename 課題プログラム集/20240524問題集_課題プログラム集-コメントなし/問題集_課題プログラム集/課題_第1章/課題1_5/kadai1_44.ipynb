#課題1.44＊ 

poleA = [4, 3, 2, 1] 
poleB = []
poleC = [] 
print('Pole A  ', poleA)
print('Pole B  ', poleB)
print('Pole C  ', poleC)
print()
poleB.append(poleA.pop())
poleC.append(poleA.pop()) 
poleC.append(poleB.pop()) 
poleB.append(poleA.pop())
poleA.append(poleC.pop()) 
poleB.append(poleC.pop())
poleB.append(poleA.pop()) 
poleC.append(poleA.pop()) 
poleC.append(poleB.pop()) 
poleA.append(poleB.pop()) 
poleA.append(poleC.pop()) 
poleC.append(poleB.pop()) 
poleB.append(poleA.pop()) 
poleC.append(poleA.pop()) 
poleC.append(poleB.pop())
print('Pole A  ', poleA) 
print('Pole B  ', poleB) 
print('Pole C  ', poleC) 
