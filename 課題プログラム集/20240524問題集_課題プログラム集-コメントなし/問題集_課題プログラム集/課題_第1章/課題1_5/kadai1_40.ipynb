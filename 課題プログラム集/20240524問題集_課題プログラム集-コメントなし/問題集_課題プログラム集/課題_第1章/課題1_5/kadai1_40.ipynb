#課題1.40　
　
import numpy as np
from matplotlib import pyplot as plt
x = [1, 2, 3, 4, 5, 6] 
y = [1, 2, 3, 4, 5, 6] 
X, Y = np.meshgrid(x, y)
plt.scatter(X, Y, s = 80, c = 'k') 
plt.grid() 
for i in range(1, 7): 
  x = list(range(1, i+1))
  y = list(range(7-i, 7))
  plt.plot(x, y)
for i in range(2, 7): 
  x = list(range(i, 7))
  y = list(range(1, 8-i))
  plt.plot(x, y)
plt.xlabel('X Axis')
plt.ylabel('Y Axis')
plt.show()
