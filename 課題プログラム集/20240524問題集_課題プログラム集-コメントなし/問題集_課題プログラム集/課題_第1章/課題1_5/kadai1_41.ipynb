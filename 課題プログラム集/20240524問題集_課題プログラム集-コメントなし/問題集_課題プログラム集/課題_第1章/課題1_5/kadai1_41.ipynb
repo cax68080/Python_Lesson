#課題1.41　

import pprint
listx = [0, 1, 2, 3, 4, 5]
listp = [6/36, 10/ 36, 8/36, 6/36, 4/36, 2/36]
ex = 0
for i, j in zip(listx, listp):
  ex += i * j
print('期待値 ', round(ex, 2))
