#課題1.43　 

#変更箇所(例題1.20のプログラムのL10, L12，L13, L15)

# move 3: fw, Move with the wolf to the RB
state.append((1, 0, 1,1)) 
# move4: fg, Move with the goat to the LB
state.append((0, 0, 0, 1)) 

