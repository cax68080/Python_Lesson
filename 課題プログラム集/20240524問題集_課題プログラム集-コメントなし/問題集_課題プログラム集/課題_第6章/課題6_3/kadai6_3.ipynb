#課題6.3*　

from math import *
import numpy as np
import matplotlib.pyplot as plt

def draw_trajectory(v0, theta, g):
  dt = 0.01
  time_flight = 2*v0*sin(theta)/g
  x = []
  y = []
  for t in np.arange(0, time_flight+dt, dt): 
    x.append(v0*cos(theta)*t) 
    y.append(v0*sin(theta)*t - 0.5*g*t*t)
  return x, y

g = 9.807
v0, angle1 = 30, 45
theta1 = radians(angle1)
x, y = draw_trajectory(v0, theta1, g)
plt.plot(x, y)
v0, angle2 = 30, 60
theta2 = radians(angle2)
x1, y1 = draw_trajectory(v0, theta2, g)
plt.plot(x1, y1)
plt.title('projectile motion') 
plt.xlabel('distance') 
plt.ylabel('height')
plt.xlim(0, 100)
plt.ylim(0, 40)
plt.show()

print('Initial Velocity:', v0)
print('Project Angle:', angle1, '  max height:',
      round(0.5*v0*v0*sin(theta1)*sin(theta1)/g, 2),
      '  max distance:', round(v0*v0*sin(2*theta1)/g, 2))
print('Project Angle:', angle2, '  max height:',
      round(0.5*v0*v0*sin(theta2)*sin(theta2)/g, 2),
      '  max distance:', round(v0*v0*sin(2*theta2)/g, 2))
