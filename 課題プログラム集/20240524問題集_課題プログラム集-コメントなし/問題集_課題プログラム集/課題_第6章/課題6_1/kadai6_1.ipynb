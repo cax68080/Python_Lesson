#課題6.1*　 

#モジュールファイル　RI_decay.py
import random
def decay_data(seed_num, N0, trials, secs): 
  random.seed(seed_num)
  list_Nd = []
  for k in range(trials):
    N = N0 
    Nd = [] 
    Nd.append(N0) 
    for i in range(1, secs): 
      count1 = 0 
      for j in range(N): 
        x = random.randint(1, 6) 
        if x == 1:
          count1 += 1 
      N = N - count1 
      Nd.append(N)
    list_Nd.append(Nd) 
  data = [] 
  for i in range(secs): 
    sumc = 0
    for j in range(trials): 
      sumc += list_Nd[j][i]
    mean = round(sumc / trials, 1) 
    data.append(mean)
  return data 

import numpy as np
import matplotlib.pyplot as plt
import RI_decay
seed_num = 100
N0 = 1000
trials = 10
secs = 16
data = RI_decay.decay_data(seed_num, N0, trials, secs)
print(len(data), data)
x = np.arange(0, secs)
y = np.array(data)
fig, ax = plt.subplots()
ax.set_xticks(np.arange(0, secs, 1))
ax.set_yticks(np.arange(0, 1100, 100))
ax.grid()
ax.scatter(x, y)
plt.show()
# 以下，y軸を常用対数軸にしてグラフを描き，回帰係数と半減期を求める。
x = np.arange(0, secs)
y = np.array(data)
fig, ax = plt.subplots() 
ax.set_xticks(np.arange(0, secs, 1))
ax.grid()
a, b = np.polyfit(x, np.log10(y), 1)
r = np.corrcoef(x, np.log10(y))[0, 1]
print('a:', round(a, 4), '   b:', round(b, 2), '   r:', round(r, 3))
half_life = -np.log10(2) / a 
decay_const = np.log(2) / half_life 
print('Half_Life:', round(half_life, 2), '   decay_const:', round(decay_const, 3))
y1 = 10**(a*x + b)
ax.plot(x, y1, 'red')
ax.scatter(x, y)
plt.yscale('log')
plt.show()

