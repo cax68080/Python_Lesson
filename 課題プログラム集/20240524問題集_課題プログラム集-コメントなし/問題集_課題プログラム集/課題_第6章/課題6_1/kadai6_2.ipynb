#課題6.2

import numpy as np
import matplotlib.pyplot as plt
T = 2.1
decay_const = np.log(2) / T 
print('崩壊定数 λ: ', round(decay_const, 3)) 
rdecay = []
for t in range(0, 11):
  activity = round(np.exp(-decay_const * t), 3)
  rdecay. append(activity)
print('減衰の割合のリスト: ', rdecay)
x = np.linspace(0, 10, num =11)
y = np.array(rdecay)
plt.plot(x, y , marker = 'o')
plt.xticks(np.arange(0, 11, 1))
plt.yticks(np.arange(0, 1.1, 0.1)) 
plt.xlabel('year')
plt.ylabel('radioactivity')
plt.show()
