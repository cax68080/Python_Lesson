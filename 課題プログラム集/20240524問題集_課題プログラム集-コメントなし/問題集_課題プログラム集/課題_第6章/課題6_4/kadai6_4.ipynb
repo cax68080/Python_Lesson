#課題6.4*

import numpy as np
import matplotlib.pyplot as plt
r, K, N0 = 0.01, 1000, 10 
x = np.arange(0, 1001, 1) 
y = K * N0 * np.exp(r*x) / (N0 * np.exp(r*x) + K - N0)
plt.plot(x, y)
plt.title('increasing numbers of a living organism')
plt.xlabel('time')
plt.ylabel('numbers')
plt.grid()
plt.show()
