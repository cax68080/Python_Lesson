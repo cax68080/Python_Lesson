#課題6.5

import numpy as np
import matplotlib.pyplot as plt
r, K , N = 0.01, 1000, [10] 
for i in range(0, 1000): 
   N.append(N[i]+(r*N[i] - r*N[i]*N[i] / K)) 
x = np.arange(0, 1001, 1) 
y = np.array(N)
plt.plot(x, y)
plt.title('increasing numbers of a living organism')
plt.xlabel('time')
plt.ylabel('numbers')
plt.grid()
plt.show()
