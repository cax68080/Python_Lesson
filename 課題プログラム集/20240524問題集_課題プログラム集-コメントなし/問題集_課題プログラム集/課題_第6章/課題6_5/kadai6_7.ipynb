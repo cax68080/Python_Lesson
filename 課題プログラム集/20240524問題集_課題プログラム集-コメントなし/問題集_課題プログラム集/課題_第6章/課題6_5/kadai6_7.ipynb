#課題6.7＊　

import matplotlib.pyplot as plt
import numpy as np
def x(n):
  global a
  if n == 0: 
    return 0.3 
  else:
    if n not in memo.keys():
      memo[n] = a*x(n-1)*(1 - x(n-1)) 
    return memo[n]

m = 51
for a in [0.5, 1.5, 2.5, 3.5, 4.0]: 
  list_x = []
  memo = {}
  for i in range(0, m):
    list_x.append(x(i))

  n = np.arange(0, 51)
  X = np.array(list_x)
  print('a:', a, '   X[0]:', X[0])
  plt.plot(n, X, marker ='o', markersize = 5)
  plt.xlim(0, 51)
  plt.ylim(0, 1)
  plt.xlabel('n')
  plt.ylabel('Xn')
  plt.show()
  print()
