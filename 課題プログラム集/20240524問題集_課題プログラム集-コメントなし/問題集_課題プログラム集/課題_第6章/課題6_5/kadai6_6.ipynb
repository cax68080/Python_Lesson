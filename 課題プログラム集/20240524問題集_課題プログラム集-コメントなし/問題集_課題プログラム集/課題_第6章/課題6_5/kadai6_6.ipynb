#課題6.6*　

import matplotlib.pyplot as plt
import numpy as np
for a in [0.5, 1.5, 2.5, 3.5, 4.0]: 
  x0 = 0.3 
  print('a:', a, '  x0:', x0)
  x = np. arange(0, 50.1, 0.1)
  y = x 
  plt.plot(x, y, color = 'black')

  x1 = np.arange(0, 100.01, 0.01)
  y1 = []
  for xi in x1:
    y1.append(a * xi * (1 - xi)) 
  y1 = np.array(y1)
  plt.plot(x1, y1, color = 'blue') 

  x2= []
  x2.append(x0) 
  for i in range(51):
    x2.append(a * x2[i] * (1 - x2[i]))

  x3 = [] 
  x3.append(x2[0])
  x3.append(x2[0])
  y3 = []
  y3.append(0)
  for i in x2[1:]:
    x3.append(i)
    x3.append(i)
    y3.append(i)
    y3.append(i)
  x3.pop() 
  x3 = np.array(x3)
  y3 = np. array(y3)
  plt.plot(x3, y3, color = 'red') 

  plt.xlim(0,1)
  plt.ylim(0, 1)
  plt.xlabel('Xn')
  plt.ylabel('Xn+1')
  plt.show()

