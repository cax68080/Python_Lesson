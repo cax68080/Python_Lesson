#課題5.7

#グラフを描くプログラム
import numpy as np
import matplotlib.pyplot as plt
def f(x):
    return x * x - np.pi

x = np.arange(-4.0, 4.1, 0.1)
y = f(x)
plt.plot(x, y)
plt.xlim(-5, 5)
plt.ylim(-10, 20)
plt.grid()
plt.show()


# 二分法のプログラム
import numpy as np
def f(x):
  return x*x - np.pi

eps = 1.0e-8
a = float(input('Enter a: ')) 
b = float(input('Enter b: ')) 
i = 1
while(True):
  c = (a + b) / 2.
  if abs(f(c)) < eps:
    break
  elif f(c) * f(b) < 0:
    a = c
  else:
    b = c
  print('第', i, '近似値：', c)
  i += 1
  if abs(a - b)  < eps:
    break
print('近似解：', c) 
print(' numpy:', np.sqrt(np.pi)) 


# ニュートン法のプログラム
import numpy as np
def f(x):
  y = x * x - np.pi
  return y
def g(x):
  z = 2 * x
  return z

eps = 1.0e-8
x0 = 1.0
i = 1
while(True):
  x1 = x0 - f(x0)/g(x0) 
  print('第', i, '近似値：', x1)
  if abs(x1 - x0) < eps:
    break
  else:
   x0 = x1
   i += 1
print('近似解：', x1)

#注：実数解が2個あります。
