#課題5.8

# グラフを描くプログラム
import numpy as np
import matplotlib.pyplot as plt
def f(x):
    return x**3 - 2*x**2 -x + 2

x = np.arange(-4.0, 4.1, 0.1)
y = f(x)
plt.plot(x, y)
plt.xlim(-5, 5)
plt.ylim(-10, 20)
plt.grid()
plt.show()


#実数解が3個あります。1つの解を求めるプログラムを示します。

# 二分法のプログラム
def f(x):
  return x**3 - 2*x**2 -x + 2

eps = 1.0e-8
a = float(input('Enter a: ')) 
b = float(input('Enter b: ')) 
i = 1
while(True):
  c = (a + b) / 2.
  if abs(f(c)) < eps:
    break
  elif f(c) * f(b) < 0:
    a = c
  else:
    b = c
  print('第', i, '近似値:', c)
  i += 1
  if abs(a - b)  < eps:
    break
print('近似解:', c)


#　ニュートン法
import numpy as np
def f(x):
  y = x**3 - 2*x**2 -x + 2
  return y
def g(x):
  z = 3*x**2 - 4* x -1
  return z
eps = 1.0e-8

x0 = 3.0 
i = 1
while(True):
  x1 = x0 - f(x0)/g(x0)
  print('第', i, '近似値', x1)
  if abs(x1 - x0) < eps:
    break
  else:
   x0 = x1
   i += 1
print('近似解', x1)

