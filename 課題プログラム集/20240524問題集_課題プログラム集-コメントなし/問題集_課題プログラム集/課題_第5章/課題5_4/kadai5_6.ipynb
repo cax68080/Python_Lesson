#課題5.6

#プログラム1：関数 f(x) = 1/( 1+ x^2  ) のグラフ
import numpy as np
import matplotlib.pyplot as plt
x = np.arange(-2, 2.1, 0.1)
y = 1 / ((1 + x*x))
plt.plot(x, y)
plt.xlim(-2, 2)
plt.ylim(0, 1.2)
plt.grid()
plt.show()


#プログラム2
import numpy as np
def f(x):
  return 1 / (1 + x*x)

a, b = 0, 1  
n = 10000 
h = (b - a) / n
s = 0
for i in range(n):
  xi = a + i * h
  s += 0.5 * (f(xi) + f(xi + h)) * h
print('台形公式による積分値（面積）：', s)
print('台形公式によるπの近似値：', 4*s)

import scipy 
def f(x):
  return 1 / (1 + x*x)
s, err = scipy.integrate.quad(f, 0, 1) 
print('scipy によ積分値（面積）    ：', s)
print('scipy によるπの近似値1： ', 4*s)
print('scipy によるπの近似値2： ', scipy.pi)
