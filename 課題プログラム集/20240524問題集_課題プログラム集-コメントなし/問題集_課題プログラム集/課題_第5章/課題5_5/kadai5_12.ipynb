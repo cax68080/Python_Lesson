#課題5.12　 

import dis
dis.dis('( ( a + ( b * ( c - d ) ) ) / e )')

