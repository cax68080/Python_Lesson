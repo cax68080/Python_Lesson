#課題5.14

import dis
dis.dis('( ( 1 + ( 2 * ( 3 - 4 ) ) ) / 5 )')

import dis
dis.dis('5 * ( ( ( 7 + 9 ) * ( 2 * 5 ) ) + 6 )')

import dis
dis.dis('( 7 * (119 - 23 ) ) / 12 + 16 / ( 3 + 1 )')
