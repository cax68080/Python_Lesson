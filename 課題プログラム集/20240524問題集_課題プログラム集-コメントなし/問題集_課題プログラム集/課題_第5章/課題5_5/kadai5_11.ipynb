#課題5.11*　 

#中置記法の数式で左右の括弧の対応がとれているかのチェック
import sys
infix = '( ( a + ( b * ( c - d ) )  + e )'  
if infix.count('(')  != infix.count(')'):
   print('エラー： 括弧の左右の対応がとれていません')
   sys.exit() 
else:
print('左右の括弧の対応がとれています')


#プログラム本体
import infix_to_rpn_prt
infix = input('Enter an infix exp: ')
list_infix = infix.split()
print('list_infix', list_infix)
rpn_queue = infix_to_rpn_prt.infix_to_rpn_prt(list_infix)
print('rpn_queue ', rpn_queue)
rpn = ' '.join(rpn_queue)
print('rpn exp ', rpn)


#モジュールファイル  infix_to_rpn_prt.py
def comp(b, a, op_stack, rpn_queue): 
  if b + a in ['+*', '+/', '-*', '-/']: 
    op_stack.append(b)
    op_stack.append(a) 
  else: 
    rpn_queue.append(b) 
    op_stack.append(a) 
    print('rpn_queue', rpn_queue)
    print('op_stack', op_stack)
  return op_stack, rpn_queue 
  
def infix_to_rpn_prt(list_infix): 
  rpn_queue = []
  op_stack = []
  for c in list_infix: 
    if c in '()+-*/':       
      if c == '(':
        op_stack.append(c)
        print('op_stack', op_stack)
        continue  
      if c == ')':
        op_stack.append(c)
        print('op_stack', op_stack)
        op_stack.pop()
        rpn_queue.append(op_stack.pop())
        print('rpn_queue', rpn_queue)
        x = op_stack.pop()
        if x == '(':
          continue
        else:
          rpn_queue.append(x)
          print('rpn_queue', rpn_queue)
          if op_stack.pop() == '(':
            continue
        print('rpn_queue', rpn_queue) 
      op_stack.append(c) 
      print('op_stack', op_stack)
      if len(op_stack) >= 2:
        a = op_stack.pop()
        b = op_stack.pop()
        if b == '(': 
          op_stack.append(b)
         op_stack.append(a)
          continue
        if b != '(':
          comp(b, a, op_stack, rpn_queue)
          if len(op_stack) == 2:
            a = op_stack.pop()
            b = op_stack.pop()
            if b == '(':
              op_stack.append(b)
              op_stack.append(a)
              continue
            comp(b, a, op_stack, rpn_queue)
    else: 
      rpn_queue.append(c) 
      print('rpn_queue', rpn_queue)
  print('operators left in op-stack', op_stack)  
  if len(op_stack) == 2: 
    rpn_queue.append(op_stack.pop()) 
    rpn_queue.append(op_stack.pop()) 
  elif len(op_stack) == 1:
    rpn_queue.append(op_stack.pop())
  return rpn_queue 

