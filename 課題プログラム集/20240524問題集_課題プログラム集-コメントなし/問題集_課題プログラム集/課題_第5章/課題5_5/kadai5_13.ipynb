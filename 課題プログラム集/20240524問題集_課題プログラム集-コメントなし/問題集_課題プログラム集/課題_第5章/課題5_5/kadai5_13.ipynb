#課題5.13

import get_rpn_queue 
import rpn_calc 
rpn = input('後置記法の数式を入力してください： ')
rpn_queue = get_rpn_queue.get_rpn_queue(rpn)
print('rpn_queue', rpn_queue)
print('計算結果 ', rpn_calc.rpn_calc(rpn_queue))


#モジュールファイル　get_rpn_queue.py
def get_rpn_queue(rpn):
  list_str = rpn.split()  
  print(list_str)  
  rpn_queue = []
  for c in list_str: 
    if c in '+-*/': 
        rpn_queue.append(c)
    else:
        rpn_queue.append(eval(c))
  return rpn_queue


#モジュールファイル　rpn_calc.py
def rpn_calc(rpn_queue): 
  stack = []  
  for i in rpn_queue: 
    if type(i) is float or type(i) is int:
      stack.append(i) 
      print('数値スタック', stack)  
    else:
      print(i, '演算子が取り出されたので，二項演算を実行します')
      a = stack.pop() 
      b = stack.pop()
      print('数値スタックでの数値の並び b a \n', b, a)
      print(' ', i) 
      if i == '+': 
        val = b + a 
      elif i == '-':  
        val = b - a
      elif i == '*': 
        val = b * a
      elif i == '/':  
        val = b / a
      stack.append(val) 
      print('数値スタック', stack) 
  return stack.pop() 
