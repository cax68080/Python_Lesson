#課題5.18

def fibo(n):
  if n <= 1:
    return dp
  for i in range(2, n+1): 
    dp[i] = dp[i-1] + dp[i-2] 
  return dp 

n = int(input('Enter an integer n (>=0) for Fn: '))
dp = [0] * (n+1) 
if n >= 1:
  dp[1] = 1
print(fibo(n))
