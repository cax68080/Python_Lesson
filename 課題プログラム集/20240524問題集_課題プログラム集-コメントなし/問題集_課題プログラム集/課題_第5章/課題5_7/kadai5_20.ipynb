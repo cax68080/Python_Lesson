#課題5.20　

def min_coin_change(amount, dict_coins, list_dp): 
##　請求額を支払うための最小のコイン枚数を求める。
  for koin in dict_coins.keys(): 
    for paymt in range(koin, amount + 1): 
      list_dp[paymt] = min(list_dp[paymt], list_dp[paymt - koin] + 1) 
  min_num_coins = list_dp[amount] 
##　各コインについてその使用枚数を求める
  paymt = amount 
  for koin, vnum in dict_coins.items(): 
    while (paymt >= koin) and (list_dp[paymt] == list_dp[paymt-koin] + 1):
      vnum += 1 
      paymt -= koin 
    dict_coins[koin] = vnum 
  return min_num_coins, dict_coins 
  
## メイン部
dict_coins = {1: 0, 5: 0, 10: 0, 50: 0, 100: 0, 500: 0} 
print('initial dict_coins:', dict_coins)
amount = int(input('Enter an amount(yen): ')) 
list_dp = [0] + [float('inf')] * amount 
min_num_coins, dict_coins = min_coin_change(amount, dict_coins, list_dp) 
print('the minimum number of used coins by the DP:', min_num_coins)   
print('final dict_coins', dict_coins) 
total = 0
for k, v in  dict_coins.items():
  total += k * v
print('the total payments(yen):', total) 
