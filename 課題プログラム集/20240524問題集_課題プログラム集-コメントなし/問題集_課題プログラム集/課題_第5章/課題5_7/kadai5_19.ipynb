#課題5.19　 

dict_coins = {100: 0, 80: 0, 50: 0, 10: 0}
charge = int(input('Enter an amount_billed: ')) 
total_num_coins = 0  
total_paym = 0 
for k in dict_coins.keys():
  q, r = divmod(charge, k) 
  dict_coins[k] = q 
  total_num_coins += q
  total_paym += k * q
  charge = r
print('the total number of used coins by the greedy method:', total_num_coins)
print('dict_coins', dict_coins, '  total payments:', total_paym)
