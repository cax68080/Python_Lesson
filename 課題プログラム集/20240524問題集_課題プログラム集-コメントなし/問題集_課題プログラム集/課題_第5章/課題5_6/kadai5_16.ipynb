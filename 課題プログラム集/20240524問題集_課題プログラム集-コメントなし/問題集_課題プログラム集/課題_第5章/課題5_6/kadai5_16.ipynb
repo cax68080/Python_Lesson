#課題5.16

import string
import random
#random.seed(100) 
def selection_sort(rlist):
  for i in range(0, len(rlist) - 1):
    max = i 
    for j in range(i+1, len(rlist)):
      if rlist[max] < rlist[j]:
        max = j   
    rlist[i], rlist[max] = rlist[max], rlist[i] 
    print(i+1, 'after sorintg', rlist)
  return rlist
n = 12
rlist = [random.choice(string.ascii_letters) for i in range(n)]
print('before sort: random ', rlist)
print('after decending sort', selection_sort(rlist))
print('use sorted function ', sorted(rlist, reverse = True))
