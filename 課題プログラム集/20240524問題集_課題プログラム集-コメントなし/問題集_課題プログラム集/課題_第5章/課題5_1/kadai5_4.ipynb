#課題5.4

import csv
import pprint
import numpy as np
import matplotlib.pyplot as plt
with open('eng_freq_wiki1.csv', 'r') as fobj:
  h = next(csv.reader(fobj))
  robj = csv.reader(fobj)
  list_data = [row for row in robj]
#  print(list_data) 

list_word = [] 
for i in range(len(list_data)):
  list_word.append(list_data[i][1]) 
#print(list_word) 
#print('the size of samples:', len(list_word))

list_word_N =[[] for i in range(16)]
for w in list_word: 
    list_word_N[len(w)].append(w) 
  print(i, 'letter words:', len(list_word_N[i]))
  list_word_N[i] = sorted(list_word_N[i]) 
  pprint.pprint(list_word_N[i], width = 60, compact = True) 
  print()

