#課題5.3

import csv
import numpy as np
import matplotlib.pyplot as plt
with open('letter_freq_table.csv', 'r') as fobj:
  h = next(csv.reader(fobj))
  rdobj = csv.reader(fobj)
  list_data = [row for row in rdobj]
  print(list_data)
x, y, c= [], [], []
for i in range(len(list_data)):
  x.append(float(list_data[i-1][0]))
  c.append(str(list_data[i-1][1]))
  y.append(float(list_data[i-1][2]))
x, c, y= np.array(x), np.array(c), np.array(y)
plt.bar(x, y, tick_label = c)
plt.xlim(0, 26)
plt.ylim(0, 15)
plt.show()
