#課題5.1＊

#テキストファイルの作成
with open('merry_lamb.txt', 'w') as fobj:
  text = '''Mary had a little lamb,
Little lamb, little lamb,
Mary had a little lamb,
Its fleece was white as snow.'''   fobj.write(text)


from collections import Counter
with open('mary_lamb.txt', 'r') as fob_in:
  text = fob_in.read()
#print(text)
text2 = text.replace(',', '').replace('.', '').lower()
list_words = text2.split() 
wdcounter = Counter(list_words) 
#print(type(wdcounter)) 
#print(wdcounter.values()) 
wdsum = sum(wdcounter.values()) 
print('total words:', wdsum)  
print('different words:', len(wdcounter)) 
print(list_words)  
print(wdcounter) 

