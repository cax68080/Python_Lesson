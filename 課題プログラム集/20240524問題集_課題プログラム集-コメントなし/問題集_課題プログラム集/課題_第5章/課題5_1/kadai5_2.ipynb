#課題5.2

with open('mary_lamb.txt', 'r') as fob_in:
  text = fob_in.read()
  print(text)
  text2 = text.replace('Mary', 'Betty').replace('lamb', 'goat')
  print()
  print(text2)
print()
  print('Betty:', text2.count('Betty'))
  print('lamb:', text2.count('goat'))
  print()

with open('betty_goat.txt', 'w') as fob_out: 
  fob_out.write(text2)
with open('betty_goat.txt', 'r') as fob_in:
  text3 = fob_in.read()
  print(text3)
