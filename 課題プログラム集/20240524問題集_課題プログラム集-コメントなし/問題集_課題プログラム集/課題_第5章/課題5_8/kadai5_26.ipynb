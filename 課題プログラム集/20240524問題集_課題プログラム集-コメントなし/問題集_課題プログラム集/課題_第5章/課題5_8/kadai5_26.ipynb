#課題5.26　 

#プログラム： グラフ1
import csv
import numpy as np
import matplotlib.pyplot as plt
with open('city_population.csv', 'r') as fobj:
  h = next(csv.reader(fobj)) 
  robj = csv.reader(fobj)
  list_data = [row for row in robj]
x, y = [], []
for i in range(len(list_data)):
  x.append(int(list_data[i][0]))
  y.append(int(list_data[i][1]))
x, y = np.array(x), np.array(y)
plt.scatter(x, y, marker = 'o', s = 7)
plt.xlim(0, 22)
plt.ylim(0, 5000)
listx = list(range(0, 22, 1))
plt.xticks(listx)
plt.xlabel('rank')
plt.ylabel('population')
plt.show()


#プログラム：グラフ2（政令指定都市の人口と順位）
import csv
import numpy as np
import matplotlib.pyplot as plt
with open('jpn_city_population.csv', 'r') as fobj:
  h = next(csv.reader(fobj)) 
  robj = csv.reader(fobj)
  list_data = [row for row in robj]
x, y = [], []
for i in range(len(list_data)):
  x.append(int(list_data[i][0]))
  y.append(int(list_data[i][1]))
x, y = np.array(x), np.array(y)
plt.scatter(x, y, marker = 'o', s = 6)
a, b = np.polyfit(np.log10(x), np.log10(y), 1) 
r = np.corrcoef(np.log10(x), np.log10(y))[0, 1]
print('傾きa: ', round(a, 3), '　ｙ切片b: ', round(b, 2),
      '　相関係数r: ', round(r, 3), '　決定係数r*r: ', round(r*r, 3))
y1 = (x**a) * (10**b)
plt.plot(x, y1, 'red')
plt.xscale('log') 
plt.yscale('log') 
plt.xlabel('rank')
plt.ylabel('population')
plt.show()

