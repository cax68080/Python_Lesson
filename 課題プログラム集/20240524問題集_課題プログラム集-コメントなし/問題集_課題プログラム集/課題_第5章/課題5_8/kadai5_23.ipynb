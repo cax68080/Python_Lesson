#課題5.23

#プログラム: グラフ1
import numpy as np
import matplotlib.pyplot as plt
x = np.arange(5, 8.0, 0.1)
y = np.array([632, 581, 469, 379, 306, 285, 217, 216, 160, 126, 109, 80,
 63, 48, 40, 34, 33, 23, 15, 14, 15, 12, 7, 2, 3, 4, 3, 3, 4, 2])
plt.scatter(x, y, s = 7)
plt.xlabel('magnitude') 
plt.ylabel('freqency') 
plt.show()


#プログラム： グラフ2
import numpy as np
import matplotlib.pyplot as plt
x = np.arange(5, 8.0, 0.1)
y = np.array([632, 581, 469, 379, 306, 285, 217, 216, 160, 126, 109, 80,
 63, 48, 40, 34, 33, 23, 15, 14, 15, 12, 7, 2, 3, 4, 3, 3, 4, 2]) 
a, b = np.polyfit(x, np.log10(y), 1)
r = np.corrcoef(x, np.log10(y))[0, 1]
print('傾きa：', round(a, 3), '　ｙ切片b：', round(b, 2),
      '　相関係数r：', round(r, 3), '　決定係数r*r：', round(r*r, 3))
y1 =10**(a*x + b) 
plt.plot(x, y1, 'red')
plt.scatter(x, y)
plt.yscale('log')
plt.xlabel('magnitude')
plt.ylabel('freqency')
plt.ylim(10**0, 10**3)
plt.show()


