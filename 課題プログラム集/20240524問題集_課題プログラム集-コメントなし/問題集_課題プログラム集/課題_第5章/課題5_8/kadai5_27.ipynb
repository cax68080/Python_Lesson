#課題5.27

import numpy as np
import matplotlib.pyplot as plt
a = [0.389, 0.724, 1.00, 1.524, 5.20, 9.510 ] 
T = [0.24, 0.615, 1, 1.881, 11.862, 29.457]
x = np.array(a)
y = np.array(T)
A, B = np.polyfit(np.log10(x), np.log10(y), 1)
print('傾きA', round(A, 3), '\t', 'y切片B：', round(B, 3)))
y1 = (10**B)*(x**A)
plt.scatter(x, y)
plt.plot(x, y1, 'red')
plt.xscale('log')
plt.yscale('log')
plt.xlabel('semi-major axis a')
plt.ylabel('period T')
plt.xlim(0.1, 100)
plt.ylim(0.1, 100)
plt.show()
