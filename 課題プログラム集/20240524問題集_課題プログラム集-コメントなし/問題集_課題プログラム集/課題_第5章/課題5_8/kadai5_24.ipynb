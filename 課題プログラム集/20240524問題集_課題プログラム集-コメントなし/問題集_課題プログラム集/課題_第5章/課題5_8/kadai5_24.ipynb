#課題5.24＊　

#プログラム： グラフ1
import numpy as np
import matplotlib.pyplot as plt
x = []
for M in np.arange(5, 8.0, 0.1):
  x.append(int(10**(4.8 + 1.5 * M)))
y = np.array([632, 581, 469, 379, 306, 285, 217, 216, 160, 126, 109, 80,
 63, 48, 40, 34, 33, 23, 15, 14, 15, 12, 7, 2, 3, 4, 3, 3, 4, 2])
plt.scatter(x, y)
plt.xlabel('energy') 
plt.ylabel('freqency') 
plt.show()


#プログラム： グラフ2
import numpy as np
import matplotlib.pyplot as plt
x = []
for M in np.arange(5, 8.0, 0.1):
  x.append(int(10**(4.8 + 1.5 * M)))
y = np.array([632, 581, 469, 379, 306, 285, 217, 216, 160, 126, 109, 80,
 63, 48, 40, 34, 33, 23, 15, 14, 15, 12, 7, 2, 3, 4, 3, 3, 4, 2])

A, B = np.polyfit(np.log10(x), np.log10(y), 1)
r = np.corrcoef(np.log10(x), np.log10(y))[0, 1]
print('傾きA:', round(A, 3), '　ｙ切片B:', round(B, 2),
     '　相関係数r:', round(r, 3), '　決定係数r*r:', round(r*r, 3))
y1 = (10**B)*(x**A) 

plt.plot(x, y1, 'red')
plt.scatter(x, y)
plt.xscale('log')
plt.yscale('log')
plt.xlabel('energy')
plt.ylabel('freqency')
plt.xlim(10**12, 10**17)
plt.ylim(10**0, 10**3)
plt.show()
