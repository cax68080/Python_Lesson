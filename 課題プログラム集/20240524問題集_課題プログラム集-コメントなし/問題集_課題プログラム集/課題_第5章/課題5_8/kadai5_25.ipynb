#課題5.25　
 
import numpy as np
import matplotlib.pyplot as plt
y = [485, 250, 195, 153, 146, 137, 110, 132, 125, 93, 103, 116,
     80, 67, 75,88, 83, 50, 58, 53, 53, 39, 60, 42, 44, 37, 47,
     73, 34, 38, 192, 188, 93, 83, 51, 38, 45, 51, 41, 30, 38, 
     34, 27, 43, 26, 50, 29, 23, 24, 27, 32, 27,23, 26, 25, 31,
     11, 23, 29, 23, 32, 13, 27, 24, 26, 12, 16, 21, 15, 22, 19, 
     15, 13, 21, 33, 24, 28, 21, 25, 22, 12]
y = np.array(y)
x = np.linspace(1, len(y), len(y))
a, b = np.polyfit(np.log10(x), np.log10(y), 1) 
r = np.corrcoef(np.log10(x), np.log10(y))[0, 1]
print('傾き：', round(a, 3), '  y切片：', round(b, 3),
      '  相関係数：', round(r, 3), '　決定係数：', round(r*r, 3))
plt.scatter(x, y, s = 15)
y2 = (x**a) * (10**b)
plt.plot(x, y2, 'red', lw = 2)
plt.xscale('log') 
plt.yscale('log')
plt.show()

