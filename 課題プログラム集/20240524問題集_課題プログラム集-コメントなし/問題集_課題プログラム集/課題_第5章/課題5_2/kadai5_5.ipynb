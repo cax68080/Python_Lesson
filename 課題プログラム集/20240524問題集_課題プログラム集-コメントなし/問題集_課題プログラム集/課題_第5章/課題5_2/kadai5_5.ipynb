#課題5.5　

def caesar_cipher(text, k, m):
  c_text = ''
  for c in text:
    if c.isalpha(): 
      if 65 <= ord(c) <= 90: 
        n = ord(c) - 65
        n = (n + k) % 26
        n = n + 65 
      elif 97 <= ord(c) <= 122: 
        n = ord(c) - 97
        n = (n + k) % 26
        n = n + 97 
      c_text += chr(n)
    else:
      c_text += c 
  return c_text

def readfile(file_name): 
  try:
    with open(file_name, 'r') as fob_in:
      text = fob_in.read()
  except FileNotFoundError:
    print('The file is not found')
  except Exception as err_msg:
    print('An error occurs', err_msg)
  else:
    return text

file_name = input('Enter a file name: ')
text = readfile(file_name)
print(text)
k = int(input('Enter a key number: '))
m = 26
ciphered_text = caesar_cipher(text, k, m)
print(ciphered_text)
with open(file_name, 'w') as fob_out:
  fob_out.write(ciphered_text)
