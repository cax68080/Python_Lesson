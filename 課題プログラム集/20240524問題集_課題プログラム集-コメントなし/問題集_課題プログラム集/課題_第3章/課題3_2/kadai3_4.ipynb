#課題3.4　 

#プログラム1
%%timeit
def gcd(x, y):
  while y != 0:
    x, y = y, x % y
  else:
    return x
x, y = 99999, 100000
#print('最大公約数 GCD', gcd(x, y))


#プログラム2
%%timeit
def try_division(num) :
    list_pf= []
    divisor = 2 
    while num >= 2: 
      q, r = divmod(num, divisor)
      if r == 0:
        list_pf.append(divisor) 
        num = q 
      else:
        divisor = divisor + 1 
    dict_pf = {i: list_pf.count(i) for i in list_pf} 
    return dict_pf

x, y = 99999, 100000
divisors1 = try_division(x) 
#print('x の素因数分解の辞書：', divisors1)
divisors2 = try_division(y) 
#print('y の素因数分解の辞書：', divisors2)
listc = list(set(divisors1.keys()) & set(divisors2.keys()))
#print('共通のキー（素因数）のリスト：', listc)
gcd = 1
for i in range(0, len(listc)):
  if divisors1[listc[i]] <= divisors2[listc[i]]:
    gcd *= listc[i] ** divisors1[listc[i]] 
  else:
    gcd *= listc[i] ** divisors2[listc[i]]
#print('最大公約数：', gcd)
