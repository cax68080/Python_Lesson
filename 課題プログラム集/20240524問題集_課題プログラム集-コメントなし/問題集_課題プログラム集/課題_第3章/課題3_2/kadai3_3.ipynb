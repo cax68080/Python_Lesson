#課題3.3　 

import sympy
x, y = map(int, input('Enter two digits: ').split()) 
print('sympyによる x，y の最大公約数:', sympy.igcd(x, y))
if sympy.igcd(x, y) == 1:
  print('最大公約数が１で，互い素です')
else:
  print('互いに素ではありません')
print()
print('sympyによる x の素因数分解', sympy.factorint(x))
print('sympyによる y の素因数分解', sympy.factorint(y))
listx= [ k for k in sympy.factorint(x).keys()]
listy= [ k for k in sympy.factorint(y).keys()]
comfact = set(listx) & set(listy) 
print('素因数の共通集合', comfact)
if len(comfact) == 0: 
  print('共通の素因数はありません。互い素で，最大公約数は1です') 
else:
  print('互いに素ではありません')

