#課題3.6　

def try_division(num): 
    list_pf= []
    divisor = 2  
    while num >= 2: 
      q, r = divmod(num, divisor)
      if r == 0: 
        list_pf.append(divisor)
        num = q  
      else:
        divisor = divisor + 1 
    dict_pf = {i: list_pf.count(i) for i in list_pf} 
    return dict_pf

n = int(input('Enter an integer n: '))
dict_pf = try_division(n)
print(dict_pf)
if 2 in dict_pf and len(dict_pf) == 1:
  print(n, 'は 2の冪乗で表される')
else:
  print(n, 'は 2の冪乗で表されない')
