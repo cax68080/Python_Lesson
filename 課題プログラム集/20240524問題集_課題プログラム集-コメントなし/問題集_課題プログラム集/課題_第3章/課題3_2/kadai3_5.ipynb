#課題3.5　

import sympy
n = int(input('Enter an integer n for Fn : '))
list_fibo = [sympy.fibonacci(i) for i in range(1, n+1)] 
size = len(list_fibo)
print(list_fibo, size)
for i in range(size):
  if i == size - 1:
    break
  else:
    num1, num2 = list_fib[i], list_fib[i+1]
    x = sympy.gcd(num1, num2)       # GCDを求める
    if x == 1:
      print(num1, num2, '  GCD 1, 互いに素です')
    else:
      print(num1, num2, '  互いに素ではない')
