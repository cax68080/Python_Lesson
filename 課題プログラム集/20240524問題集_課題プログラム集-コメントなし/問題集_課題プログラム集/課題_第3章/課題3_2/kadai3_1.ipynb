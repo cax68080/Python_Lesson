#課題3.1  

def gcd(x, y):
  while True:
    if x < y:
      x, y = y, x
    d = x - y
    if d == x:
      return x
    print(x, y, d, sep = '\t')
    x, y = y, d
    if d == 0:
      return x

x, y = map(int, input('Enter two digits: ').split())
print('最大公約数 GCD: ', gcd(x, y))

