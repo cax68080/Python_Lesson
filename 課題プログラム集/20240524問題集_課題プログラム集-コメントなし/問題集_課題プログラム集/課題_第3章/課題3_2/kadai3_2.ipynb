#課題3.2　 

def find_divisors(n):
  list_divisors = []
  for i in range(1, n+1): 
    if n % i == 0: 
      list_divisors.append(i)
  return list_divisors

n1 = int(input('Enter an integer = '))
n2 = int(input('Enter an integer = '))
list_divisors_n1 = find_divisors(n1) 
print(list_divisors_n1, len(list_divisors_n1))
list_divisors_n2 = find_divisors(n2)
print(list_divisors_n2, len(list_divisors_n2))
cd = set(list_divisors_n1) & set(list_divisors_n2) 
print('common divisors:', cd) 
gcd = max(cd) 
