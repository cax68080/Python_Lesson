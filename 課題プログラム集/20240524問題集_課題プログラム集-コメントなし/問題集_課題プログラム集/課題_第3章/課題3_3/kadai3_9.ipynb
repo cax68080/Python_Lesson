#課題3.9　 

from fractions import Fraction
N = 200
M = 200
list_t1 = [Fraction((-1) ** n, (2 * n + 1) * 5 ** (2 * n + 1)) for n in range(N)]
list_t2 = [Fraction((-1) ** n, (2 * n + 1) * 239 ** (2 * n + 1)) for n in range(M)]
sum1 = sum(list_t1)
sum2 = sum(list_t2)
print('πの近似値：', 16 * float(sum1) - 4 * float(sum2))

