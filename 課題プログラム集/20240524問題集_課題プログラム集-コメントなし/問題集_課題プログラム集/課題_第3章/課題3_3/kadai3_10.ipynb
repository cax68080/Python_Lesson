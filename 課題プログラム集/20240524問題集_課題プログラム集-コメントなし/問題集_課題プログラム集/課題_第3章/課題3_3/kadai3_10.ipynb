#課題3.10　

#プログラム(1)
import numpy as np
import matplotlib.pyplot as plt
x = np.linspace(0, 1)
y = np.sqrt(1.0 - x*x)
の方程式　x*x + y*y = 1
plt.plot(x, y)
plt.xlim(0, 1)
plt.ylim(0, 1)
plt.show()


#プログラム(2)
import numpy as np 
def f(x):
  return np.sqrt(1.0 - x*x)
  
a, b = 0, 1 
n = int(input('Enter a number of divisions ')) 
h = (b - a) / n
s = 0
for i in range(n):
  xi = a + i * h
  s += 0.5 * (f(xi) + f(xi + h)) * h 
print('n =', n, 'でのπの近似値: ', 4*s) 
print('Numpy の定数 π: ', np.pi)

import numpy as np
from scipy import integrate
from scipy import constants
def f(x):
  return np.sqrt(1 - x*x)

a, b = 0, 1
s, err = integrate.quad(f, 0, 1) 
print('Scipy定積分を用いて求めたπの近似値 ', 4*s)
print('scipyのπ ', constants.pi)


