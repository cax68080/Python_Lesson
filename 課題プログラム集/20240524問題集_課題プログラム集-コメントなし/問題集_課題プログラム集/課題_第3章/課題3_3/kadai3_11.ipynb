#課題3.11　

def mnemonic(phrase):
  wchs = ''
  for i, word in enumerate(phrase, 1):
    wchs += str(len(word))
    if i == 1:
      wchs += '.'
  return wchs
  
phrase = 'May I have a large container of coffee'
phrase = phrase.split()
print(phrase, len(phrase))
print(float(mnemonic(phrase))) 

