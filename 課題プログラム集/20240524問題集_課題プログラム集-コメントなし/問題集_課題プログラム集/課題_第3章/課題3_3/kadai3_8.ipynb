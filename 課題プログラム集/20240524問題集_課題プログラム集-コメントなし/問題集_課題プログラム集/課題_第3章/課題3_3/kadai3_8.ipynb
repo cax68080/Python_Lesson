#課題3.8　 

sumx = 1
for i in range(0, 50000, 2): 
  sumx *= (i+2)*(i+2)/((i+1) * (i+3))
print('πの近似値', 2 * sumx) 
