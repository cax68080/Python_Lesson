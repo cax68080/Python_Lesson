#課題3.7　

import numpy as np
def archi_pir(x, y, i, m):
  if i == m:
    return (x + y) / 2
  x = (2*x*y) / (x + y)
  y = np.sqrt(x*y)
  print('第', i+1, '近似  正', 2**(i+1)*n, '角形  ', y, '\t', x)
  return archi_pir(x, y, i+1, m)

n = 6 
m = int(input('Enter the max order of approximation: '))
x, y = 2*np.sqrt(3), 3
print('第 0 近似  正', n, ' 角形  ', y, '\t', x) 
i = 0
ap_pi = archi_pir(x, y, i, m)
print('円周率の近似値：', round(ap_pi, 6))
