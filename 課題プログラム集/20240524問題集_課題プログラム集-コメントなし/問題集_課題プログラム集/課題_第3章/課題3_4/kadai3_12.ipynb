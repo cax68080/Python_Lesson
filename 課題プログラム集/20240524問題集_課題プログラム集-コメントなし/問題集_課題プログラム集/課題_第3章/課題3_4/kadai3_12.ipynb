#課題3.12　

import sympy 
n = int(input('Enter an integer n for Fn : '))
list_fibo = [sympy.fibonacci(i) for i in range(1, n+1)]
print(list_fibo, len(list_fibo))
print('i', 'Fi', sep = '\t')
for i in range(2, n+2, 2): 
  fi = sympy.fibonacci(i)
  if sympy.isprime(fi):
    print(i, fi, '素数', sep = '\t')
  else:
    if i == 2:
      print(i, fi, '素数でも合成数でもない',  sep = '\t')
    elif i != 2: 
       print(i, fi, '合成数',  sep = '\t')
   
