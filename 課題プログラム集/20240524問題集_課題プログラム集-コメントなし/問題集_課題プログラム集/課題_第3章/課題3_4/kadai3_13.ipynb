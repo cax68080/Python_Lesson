#課題3.13　 

import pprint
def primes(n, list_prime, i):
  if i <= n**0.5:
    for j in range(i*i, n+1, i):
      list_prime[j] = False
    i += 1
    return primes(n, list_prime, i) 
else:
    list_prime = [ k for k in range(n + 1) if list_prime[k]]  
    return list_prime, len(list_prime)

n = int(input('Enter an integer n = '))
list_prime = [True] * (n + 1) 
list_prime[0] = False
list_prime[1] = False
i = 2 
list_prime, size = primes(n, list_prime, i)
print(n, 'までのすべての素数と素数の個数')
pprint.pprint(list_prime, width = 60, compact = True)
print(size)

