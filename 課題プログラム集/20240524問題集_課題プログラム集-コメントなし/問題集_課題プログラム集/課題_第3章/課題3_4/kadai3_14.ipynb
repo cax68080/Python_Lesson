#課題3.14　 

def prime_number(n, i=2):
  if n == i:
    return True
  elif n % i == 0:
    return False
  return prime_number(n, i + 1)

n = int(input('Enter an integer n: '))
list_prime = [i for i in range(2, n) if prime_number(i) ]
print(list_prime, len(list_prime))
